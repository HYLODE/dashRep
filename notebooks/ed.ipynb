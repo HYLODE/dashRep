{
 "cells": [
  {
   "cell_type": "markdown",
   "id": "93c98751-c29f-4aee-b700-3e7f76fe5978",
   "metadata": {},
   "source": [
    "## Displaying ED predictions\n",
    "\n",
    "- an end in itself\n",
    "- template up how to build a dash display"
   ]
  },
  {
   "cell_type": "markdown",
   "id": "c98d214d-f13e-4218-93f1-eb60f98fedf8",
   "metadata": {},
   "source": [
    "Load standard libraries plus those specified in poetry.toml"
   ]
  },
  {
   "cell_type": "code",
   "execution_count": null,
   "id": "ac564be4-e638-4113-b393-f3afe437f8f2",
   "metadata": {
    "execution": {
     "iopub.execute_input": "2022-01-12T23:57:06.863149Z",
     "iopub.status.busy": "2022-01-12T23:57:06.862524Z",
     "iopub.status.idle": "2022-01-12T23:57:08.716326Z",
     "shell.execute_reply": "2022-01-12T23:57:08.715678Z",
     "shell.execute_reply.started": "2022-01-12T23:57:06.863068Z"
    },
    "tags": []
   },
   "outputs": [],
   "source": [
    "import os\n",
    "import pandas as pd\n",
    "import numpy as np\n",
    "import json\n",
    "from pathlib import Path\n",
    "import datetime\n",
    "import warnings\n",
    "\n",
    "from sqlalchemy import create_engine\n",
    "\n",
    "import plotly.graph_objects as go\n",
    "import plotly.express as px\n",
    "from ridgeplot import ridgeplot"
   ]
  },
  {
   "cell_type": "markdown",
   "id": "e85545dc-5ff5-48ce-9566-1ca922193c46",
   "metadata": {},
   "source": [
    "Run this file as if it was in the 'app' folder so that it's easier to migrate your code later on"
   ]
  },
  {
   "cell_type": "code",
   "execution_count": null,
   "id": "2bab2657-52a0-4188-8fa2-c2b59eeb12c2",
   "metadata": {
    "execution": {
     "iopub.execute_input": "2022-01-12T23:57:08.717633Z",
     "iopub.status.busy": "2022-01-12T23:57:08.717446Z",
     "iopub.status.idle": "2022-01-12T23:57:08.722714Z",
     "shell.execute_reply": "2022-01-12T23:57:08.722179Z",
     "shell.execute_reply.started": "2022-01-12T23:57:08.717607Z"
    }
   },
   "outputs": [],
   "source": [
    "# check that you're starting from the notebooks folder\n",
    "# else subsequent relative imports won't work\n",
    "# moreover this means that code here will behave wrt to relative imports in a similar manner to app code\n",
    "app_path = Path(\"__file__\").parent.resolve().parent / 'app' \n",
    "assert app_path.exists()\n",
    "os.chdir(app_path)\n",
    "print(Path.cwd())"
   ]
  },
  {
   "cell_type": "markdown",
   "id": "7bd1d1dd-173d-4580-a4da-2964b4e88409",
   "metadata": {},
   "source": [
    "Now import the 'app' and configuration settings"
   ]
  },
  {
   "cell_type": "code",
   "execution_count": null,
   "id": "03d483db-5c33-429b-97c7-dfec4e84a620",
   "metadata": {
    "execution": {
     "iopub.execute_input": "2022-01-12T23:57:08.723662Z",
     "iopub.status.busy": "2022-01-12T23:57:08.723479Z",
     "iopub.status.idle": "2022-01-12T23:57:09.031652Z",
     "shell.execute_reply": "2022-01-12T23:57:09.031063Z",
     "shell.execute_reply.started": "2022-01-12T23:57:08.723638Z"
    }
   },
   "outputs": [],
   "source": [
    "import app\n",
    "from config.config import ConfigFactory\n",
    "conf = ConfigFactory.factory()"
   ]
  },
  {
   "cell_type": "markdown",
   "id": "41518b0b-0ba1-48cb-b744-b01549af8f66",
   "metadata": {},
   "source": [
    "Run a query against the live data if in production"
   ]
  },
  {
   "cell_type": "code",
   "execution_count": null,
   "id": "2701c946-997e-4244-be29-0e5e8ecf6353",
   "metadata": {
    "execution": {
     "iopub.execute_input": "2022-01-12T23:57:10.515717Z",
     "iopub.status.busy": "2022-01-12T23:57:10.515192Z",
     "iopub.status.idle": "2022-01-12T23:57:10.521088Z",
     "shell.execute_reply": "2022-01-12T23:57:10.520316Z",
     "shell.execute_reply.started": "2022-01-12T23:57:10.515683Z"
    }
   },
   "outputs": [],
   "source": [
    "print(conf.DEV)"
   ]
  },
  {
   "cell_type": "code",
   "execution_count": null,
   "id": "7dca1f35-8668-43d0-a61a-557ef90160e9",
   "metadata": {
    "execution": {
     "iopub.execute_input": "2022-01-13T00:18:38.403010Z",
     "iopub.status.busy": "2022-01-13T00:18:38.402614Z",
     "iopub.status.idle": "2022-01-13T00:18:39.028272Z",
     "shell.execute_reply": "2022-01-13T00:18:39.027637Z",
     "shell.execute_reply.started": "2022-01-13T00:18:38.402967Z"
    },
    "tags": []
   },
   "outputs": [],
   "source": [
    "CSV_FILE = 'ed_agg_30d_sample.csv'\n",
    "SQL_FILE = 'ed_predictor_agg.sql'\n",
    "\n",
    "if conf.DEV:\n",
    "    df = pd.read_csv(\n",
    "        f\"../data/secret/{CSV_FILE}\"\n",
    "    )\n",
    "else:\n",
    "    # Environment variables stored in conf.SECRETS\n",
    "    # Construct the PostgreSQL connection\n",
    "    uds_host = conf.SECRETS[\"EMAP_DB_HOST\"]\n",
    "    uds_name = conf.SECRETS[\"EMAP_DB_NAME\"]\n",
    "    uds_port = conf.SECRETS[\"EMAP_DB_PORT\"]\n",
    "    uds_user = conf.SECRETS[\"EMAP_DB_USER\"]\n",
    "    uds_passwd = conf.SECRETS[\"EMAP_DB_PASSWORD\"]\n",
    "\n",
    "    emapdb_engine = create_engine(\n",
    "        f\"postgresql://{uds_user}:{uds_passwd}@{uds_host}:{uds_port}/{uds_name}\"\n",
    "    )\n",
    "    q = Path(f\"../notebooks/sql/{SQL_FILE}\").read_text()\n",
    "    df = pd.read_sql_query(q, emapdb_engine)\n",
    "    df.to_csv(f\"../data/secret/{CSV_FILE}\", index=False)\n"
   ]
  },
  {
   "cell_type": "markdown",
   "id": "b7e22031-1ba5-4dfa-9f96-c57511755824",
   "metadata": {},
   "source": [
    "Prepare the data \n",
    "- prepare the 'hour' the model ran so you can work compare 8h prediction models from the same time of day\n",
    "- convert date to time offset in days"
   ]
  },
  {
   "cell_type": "code",
   "execution_count": null,
   "id": "7a27dc46-328b-4795-b20a-3d38fac05c0b",
   "metadata": {
    "execution": {
     "iopub.execute_input": "2022-01-13T00:29:38.849101Z",
     "iopub.status.busy": "2022-01-13T00:29:38.848728Z",
     "iopub.status.idle": "2022-01-13T00:29:38.877387Z",
     "shell.execute_reply": "2022-01-13T00:29:38.876699Z",
     "shell.execute_reply.started": "2022-01-13T00:29:38.849071Z"
    },
    "tags": []
   },
   "outputs": [],
   "source": [
    "# Round to handle timezones (and round to nearest even hour)\n",
    "df['extract_dttm'] = df['extract_dttm'].apply(lambda x: datetime.datetime(x.year, x.month, x.day, 2*(x.hour//2)))\n",
    "\n",
    "df['hour'] = df.extract_dttm.round('1H').dt.hour\n",
    "df['dow'] = df.extract_dttm.dt.dayofweek # Monday = 0, Sunday = 6\n",
    "df['date'] = df.extract_dttm.round('1D').dt.date\n",
    "df['days'] = (df.extract_dttm.max() - df.extract_dttm).round('1D').dt.days.astype(int)\n",
    "\n",
    "# df = df.loc[:, ['extract_dttm', 'days', 'date', 'dow', 'hour', 'num_adm_pred', 'probs']]\n",
    "df['probs'] = df['probs'].fillna(value=0)\n",
    "df['probs'] = df['probs'].round(decimals=5)"
   ]
  },
  {
   "cell_type": "code",
   "execution_count": null,
   "id": "25fe979a-6efe-4b76-b907-629d5b6c2900",
   "metadata": {
    "execution": {
     "iopub.execute_input": "2022-01-13T00:29:40.003751Z",
     "iopub.status.busy": "2022-01-13T00:29:40.003265Z",
     "iopub.status.idle": "2022-01-13T00:29:40.021434Z",
     "shell.execute_reply": "2022-01-13T00:29:40.020858Z",
     "shell.execute_reply.started": "2022-01-13T00:29:40.003720Z"
    },
    "tags": []
   },
   "outputs": [],
   "source": [
    "df"
   ]
  },
  {
   "cell_type": "markdown",
   "id": "b085a532-0fd5-425e-984d-4619f5846274",
   "metadata": {},
   "source": [
    "### Simple plot of probability distribution for one forecast\n",
    "- return `df0`: a dataframe with the most recent forecast for all patients\n",
    "- then prepare a simple plot of the probability distribution"
   ]
  },
  {
   "cell_type": "code",
   "execution_count": null,
   "id": "4c88bb96-b520-4382-bc48-f4e488de1552",
   "metadata": {
    "execution": {
     "iopub.execute_input": "2022-01-13T00:29:44.449833Z",
     "iopub.status.busy": "2022-01-13T00:29:44.449586Z",
     "iopub.status.idle": "2022-01-13T00:29:44.456237Z",
     "shell.execute_reply": "2022-01-13T00:29:44.455346Z",
     "shell.execute_reply.started": "2022-01-13T00:29:44.449806Z"
    },
    "tags": []
   },
   "outputs": [],
   "source": [
    "df0 = df.loc[(df.extract_dttm == df.extract_dttm.max())]"
   ]
  },
  {
   "cell_type": "code",
   "execution_count": null,
   "id": "e5fb961a-1bee-4b8c-9531-a8720a395c74",
   "metadata": {
    "execution": {
     "iopub.execute_input": "2022-01-13T00:29:44.868794Z",
     "iopub.status.busy": "2022-01-13T00:29:44.868530Z",
     "iopub.status.idle": "2022-01-13T00:29:44.873891Z",
     "shell.execute_reply": "2022-01-13T00:29:44.873251Z",
     "shell.execute_reply.started": "2022-01-13T00:29:44.868753Z"
    },
    "tags": []
   },
   "outputs": [],
   "source": [
    "df0.sort_values(by='num_adm_pred', inplace=True)"
   ]
  },
  {
   "cell_type": "code",
   "execution_count": null,
   "id": "7c78812c-85e7-401a-8daa-38a045cbf4d7",
   "metadata": {
    "execution": {
     "iopub.execute_input": "2022-01-13T00:29:52.371804Z",
     "iopub.status.busy": "2022-01-13T00:29:52.371553Z",
     "iopub.status.idle": "2022-01-13T00:29:52.382268Z",
     "shell.execute_reply": "2022-01-13T00:29:52.381672Z",
     "shell.execute_reply.started": "2022-01-13T00:29:52.371763Z"
    },
    "tags": []
   },
   "outputs": [],
   "source": [
    "go.Figure(\n",
    "    data=go.Scatter(x=df0.num_adm_pred, y=df0.probs, mode='lines+markers')\n",
    ")"
   ]
  },
  {
   "cell_type": "markdown",
   "id": "cb423ee2-03a6-429c-9c97-9a35c6a39650",
   "metadata": {},
   "source": [
    "### Plot multiple forecasts from the same time the last XX ish days"
   ]
  },
  {
   "cell_type": "code",
   "execution_count": null,
   "id": "7433ff4b-728c-42db-b89d-e1bf6232116c",
   "metadata": {
    "execution": {
     "iopub.execute_input": "2022-01-13T00:29:55.317236Z",
     "iopub.status.busy": "2022-01-13T00:29:55.316901Z",
     "iopub.status.idle": "2022-01-13T00:29:55.324131Z",
     "shell.execute_reply": "2022-01-13T00:29:55.323484Z",
     "shell.execute_reply.started": "2022-01-13T00:29:55.317208Z"
    },
    "tags": []
   },
   "outputs": [],
   "source": [
    "#dfr = df recent (same hour, same day of the week)\n",
    "dfr = df.loc[((df.hour==df0.iloc[0].hour) & (df.dow==df0.iloc[0].dow)),['days',  'num_adm_pred', 'probs']]\n"
   ]
  },
  {
   "cell_type": "markdown",
   "id": "f5aa0d77-eb07-4e65-abf0-4e2dba48541c",
   "metadata": {},
   "source": [
    "Using the [ridgeplot](https://github.com/tpvasconcelos/ridgeplot) package which in turn also uses plotly for this. We need to prepare the data as a series of (2,n) arrays for this where 'n' is the same for all densities."
   ]
  },
  {
   "cell_type": "markdown",
   "id": "a7aeb9a7-a280-4a3f-bbd8-e0739529ae17",
   "metadata": {},
   "source": [
    "Prepare a list of days (should be multiples of 7 into the past)"
   ]
  },
  {
   "cell_type": "code",
   "execution_count": null,
   "id": "69e6028d-fdc8-4269-a367-0d3c4c90141f",
   "metadata": {
    "execution": {
     "iopub.execute_input": "2022-01-13T00:30:02.518408Z",
     "iopub.status.busy": "2022-01-13T00:30:02.517798Z",
     "iopub.status.idle": "2022-01-13T00:30:02.522738Z",
     "shell.execute_reply": "2022-01-13T00:30:02.522133Z",
     "shell.execute_reply.started": "2022-01-13T00:30:02.518373Z"
    },
    "tags": []
   },
   "outputs": [],
   "source": [
    "days = dfr.days.unique()\n",
    "days = days[np.argsort(-days)]"
   ]
  },
  {
   "cell_type": "code",
   "execution_count": null,
   "id": "8a37a950-05a6-4d75-9cde-69bbb9ba6f77",
   "metadata": {
    "execution": {
     "iopub.execute_input": "2022-01-13T00:33:47.002940Z",
     "iopub.status.busy": "2022-01-13T00:33:47.002673Z",
     "iopub.status.idle": "2022-01-13T00:33:47.057127Z",
     "shell.execute_reply": "2022-01-13T00:33:47.056433Z",
     "shell.execute_reply.started": "2022-01-13T00:33:47.002912Z"
    },
    "tags": []
   },
   "outputs": [],
   "source": [
    "num_adm_max = int(dfr.num_adm_pred.max())\n",
    "skeleton = pd.DataFrame(dict(num_adm_pred=range(num_adm_max)))\n",
    "ll = []\n",
    "labels = []\n",
    "for day in days:\n",
    "    tt = dfr.loc[dfr.days==day].drop(['days'],axis=1)\n",
    "    tt = pd.merge(skeleton, tt, how='left')\n",
    "    tt = tt.reset_index(drop=True)\n",
    "    tt.fillna(value=0, inplace=True)\n",
    "    if sum(tt.probs) == 0:\n",
    "        continue\n",
    "    tt = tt.loc[:40,]\n",
    "    tt = tt.values.transpose()\n",
    "    ll.append(tt)\n",
    "    labels.append(day)\n",
    "res = np.asarray(ll)"
   ]
  },
  {
   "cell_type": "code",
   "execution_count": null,
   "id": "6809dd65-9c18-4a6d-83e6-8c4f208a2000",
   "metadata": {
    "execution": {
     "iopub.execute_input": "2022-01-13T00:33:53.870426Z",
     "iopub.status.busy": "2022-01-13T00:33:53.869745Z",
     "iopub.status.idle": "2022-01-13T00:33:53.900595Z",
     "shell.execute_reply": "2022-01-13T00:33:53.899989Z",
     "shell.execute_reply.started": "2022-01-13T00:33:53.870392Z"
    },
    "tags": []
   },
   "outputs": [],
   "source": [
    "fig = ridgeplot(densities=res, \n",
    "                labels=labels,\n",
    "                colorscale='portland',\n",
    "                colormode='mean-minmax',\n",
    "                spacing=1/5,\n",
    "               )"
   ]
  },
  {
   "cell_type": "code",
   "execution_count": null,
   "id": "71f8666e-37db-4d75-bb1c-c7d0da5622d3",
   "metadata": {
    "execution": {
     "iopub.execute_input": "2022-01-13T00:35:07.412111Z",
     "iopub.status.busy": "2022-01-13T00:35:07.411855Z",
     "iopub.status.idle": "2022-01-13T00:35:07.451800Z",
     "shell.execute_reply": "2022-01-13T00:35:07.450946Z",
     "shell.execute_reply.started": "2022-01-13T00:35:07.412083Z"
    },
    "tags": []
   },
   "outputs": [],
   "source": [
    "fig.update_layout(showlegend=False)\n",
    "fig.update_layout(autosize=False, width=800, height=400)\n",
    "fig.update_layout(xaxis_title='Inpatient bed demand',\n",
    "                 yaxis_title=f\"Predictions from days past<br>(i.e. up to {max(labels)} days ago)\")\n",
    "fig.update_layout(template='plotly_white')\n",
    "fig.show()"
   ]
  },
  {
   "cell_type": "code",
   "execution_count": null,
   "id": "c76e6fc8-3b02-4abc-98c5-251964a27447",
   "metadata": {},
   "outputs": [],
   "source": []
  }
 ],
 "metadata": {
  "kernelspec": {
   "display_name": "Python 3",
   "language": "python",
   "name": "python3"
  },
  "language_info": {
   "codemirror_mode": {
    "name": "ipython",
    "version": 3
   },
   "file_extension": ".py",
   "mimetype": "text/x-python",
   "name": "python",
   "nbconvert_exporter": "python",
   "pygments_lexer": "ipython3",
   "version": "3.9.5"
  }
 },
 "nbformat": 4,
 "nbformat_minor": 5
}
