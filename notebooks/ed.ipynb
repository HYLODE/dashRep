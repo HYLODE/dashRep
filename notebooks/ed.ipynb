{
 "cells": [
  {
   "cell_type": "markdown",
   "id": "93c98751-c29f-4aee-b700-3e7f76fe5978",
   "metadata": {},
   "source": [
    "## Displaying ED predictions\n",
    "\n",
    "- an end in itself\n",
    "- template up how to build a dash display"
   ]
  },
  {
   "cell_type": "markdown",
   "id": "c98d214d-f13e-4218-93f1-eb60f98fedf8",
   "metadata": {},
   "source": [
    "Load standard libraries plus those specified in poetry.toml"
   ]
  },
  {
   "cell_type": "code",
   "execution_count": 4,
   "id": "ac564be4-e638-4113-b393-f3afe437f8f2",
   "metadata": {},
   "outputs": [],
   "source": [
    "import os\n",
    "import pandas as pd\n",
    "import numpy as np\n",
    "import json\n",
    "from pathlib import Path\n",
    "from datetime import datetime, date\n",
    "import warnings\n",
    "\n",
    "import plotly.graph_objects as go\n",
    "import plotly.express as px\n",
    "from ridgeplot import ridgeplot"
   ]
  },
  {
   "cell_type": "markdown",
   "id": "e85545dc-5ff5-48ce-9566-1ca922193c46",
   "metadata": {},
   "source": [
    "Run this file as if it was in the 'app' folder so that it's easier to migrate your code later on"
   ]
  },
  {
   "cell_type": "code",
   "execution_count": 3,
   "id": "2bab2657-52a0-4188-8fa2-c2b59eeb12c2",
   "metadata": {},
   "outputs": [
    {
     "name": "stdout",
     "output_type": "stream",
     "text": [
      "/Users/steve/code/hylode/dashRep/app\n"
     ]
    }
   ],
   "source": [
    "# check that you're starting from the notebooks folder\n",
    "# else subsequent relative imports won't work\n",
    "# moreover this means that code here will behave wrt to relative imports in a similar manner to app code\n",
    "app_path = Path(\"__file__\").parent.resolve().parent / 'app' \n",
    "assert app_path.exists()\n",
    "os.chdir(app_path)\n",
    "print(Path.cwd())"
   ]
  },
  {
   "cell_type": "markdown",
   "id": "7bd1d1dd-173d-4580-a4da-2964b4e88409",
   "metadata": {},
   "source": [
    "Now import the 'app' and configuration settings"
   ]
  },
  {
   "cell_type": "code",
   "execution_count": null,
   "id": "03d483db-5c33-429b-97c7-dfec4e84a620",
   "metadata": {},
   "outputs": [],
   "source": [
    "import app\n",
    "from config.config import ConfigFactory\n",
    "conf = ConfigFactory.factory()"
   ]
  },
  {
   "cell_type": "markdown",
   "id": "41518b0b-0ba1-48cb-b744-b01549af8f66",
   "metadata": {},
   "source": [
    "Run a query against the live data if in production"
   ]
  },
  {
   "cell_type": "code",
   "execution_count": null,
   "id": "7dca1f35-8668-43d0-a61a-557ef90160e9",
   "metadata": {},
   "outputs": [],
   "source": [
    "if not conf.DEV:\n",
    "    # Environment variables stored in conf.SECRETS\n",
    "    # Construct the PostgreSQL connection\n",
    "    uds_host = conf.SECRETS['EMAP_DB_HOST']\n",
    "    uds_name = conf.SECRETS['EMAP_DB_NAME']\n",
    "    uds_port = conf.SECRETS['EMAP_DB_PORT']\n",
    "    uds_user = conf.SECRETS['EMAP_DB_USER']\n",
    "    uds_passwd = conf.SECRETS['EMAP_DB_PASSWORD']\n",
    "\n",
    "    emapdb_engine = create_engine(f'postgresql://{uds_user}:{uds_passwd}@{uds_host}:{uds_port}/{uds_name}')\n",
    "    q = Path(\"../notebooks/sql/ed.sql\").read_text()\n",
    "    df = pd.read_sql_query(q, emapdb_engine)\n",
    "    df.to_csv(\"../data/secret/ed_agg_30d_sample.csv\", index=False)"
   ]
  },
  {
   "cell_type": "markdown",
   "id": "83fec985-d4ff-46a6-9c12-72fbdf6be17e",
   "metadata": {},
   "source": [
    "Read in data"
   ]
  },
  {
   "cell_type": "code",
   "execution_count": 366,
   "id": "273ba082-ab14-42c7-9bc3-4fa37a74541b",
   "metadata": {},
   "outputs": [],
   "source": [
    "df = pd.read_csv(\"../data/secret/ed_agg_30d_sample.csv\", parse_dates=['extract_dttm'])"
   ]
  },
  {
   "cell_type": "markdown",
   "id": "b7e22031-1ba5-4dfa-9f96-c57511755824",
   "metadata": {},
   "source": [
    "Prepare the data \n",
    "- prepare the 'hour' the model ran so you can work compare models from the same time of day\n",
    "- convert date to time offset in days"
   ]
  },
  {
   "cell_type": "code",
   "execution_count": 367,
   "id": "e8c4a05d-063d-4075-a182-5835e2ba2876",
   "metadata": {},
   "outputs": [],
   "source": [
    "df['hour'] = df.extract_dttm.round('1H').dt.hour\n",
    "df['dow'] = df.extract_dttm.dt.dayofweek # Monday = 0, Sunday = 6\n",
    "df['date'] = df.extract_dttm.round('1D').dt.date\n",
    "df['days'] = (df.extract_dttm.max() - df.extract_dttm).round('1D').dt.days.astype(int)\n",
    "df = df.loc[df.contrib == 'All patients', ['extract_dttm', 'days', 'date', 'dow', 'hour', 'num_adm_pred', 'prob_this_num', 'probs']]\n"
   ]
  },
  {
   "cell_type": "markdown",
   "id": "b085a532-0fd5-425e-984d-4619f5846274",
   "metadata": {},
   "source": [
    "### Simple plot of probability distribution for one forecast\n",
    "- return `df0`: a dataframe with the most recent 8 hour forecast for all patients\n",
    "- then prepare a simple plot of the probability distribution"
   ]
  },
  {
   "cell_type": "code",
   "execution_count": 368,
   "id": "809212a8-82fa-4389-b1e6-750a638338b3",
   "metadata": {},
   "outputs": [
    {
     "data": {
      "text/html": [
       "<div>\n",
       "<style scoped>\n",
       "    .dataframe tbody tr th:only-of-type {\n",
       "        vertical-align: middle;\n",
       "    }\n",
       "\n",
       "    .dataframe tbody tr th {\n",
       "        vertical-align: top;\n",
       "    }\n",
       "\n",
       "    .dataframe thead th {\n",
       "        text-align: right;\n",
       "    }\n",
       "</style>\n",
       "<table border=\"1\" class=\"dataframe\">\n",
       "  <thead>\n",
       "    <tr style=\"text-align: right;\">\n",
       "      <th></th>\n",
       "      <th>extract_dttm</th>\n",
       "      <th>days</th>\n",
       "      <th>date</th>\n",
       "      <th>dow</th>\n",
       "      <th>hour</th>\n",
       "      <th>num_adm_pred</th>\n",
       "      <th>prob_this_num</th>\n",
       "      <th>probs</th>\n",
       "    </tr>\n",
       "  </thead>\n",
       "  <tbody>\n",
       "    <tr>\n",
       "      <th>11678</th>\n",
       "      <td>2022-01-04 22:00:09.955230+00:00</td>\n",
       "      <td>0</td>\n",
       "      <td>2022-01-05</td>\n",
       "      <td>1</td>\n",
       "      <td>22</td>\n",
       "      <td>0</td>\n",
       "      <td>1.000000</td>\n",
       "      <td>1.720000e-11</td>\n",
       "    </tr>\n",
       "    <tr>\n",
       "      <th>11679</th>\n",
       "      <td>2022-01-04 22:00:09.955230+00:00</td>\n",
       "      <td>0</td>\n",
       "      <td>2022-01-05</td>\n",
       "      <td>1</td>\n",
       "      <td>22</td>\n",
       "      <td>1</td>\n",
       "      <td>1.000000</td>\n",
       "      <td>6.520000e-10</td>\n",
       "    </tr>\n",
       "    <tr>\n",
       "      <th>11680</th>\n",
       "      <td>2022-01-04 22:00:09.955230+00:00</td>\n",
       "      <td>0</td>\n",
       "      <td>2022-01-05</td>\n",
       "      <td>1</td>\n",
       "      <td>22</td>\n",
       "      <td>2</td>\n",
       "      <td>1.000000</td>\n",
       "      <td>1.190000e-08</td>\n",
       "    </tr>\n",
       "    <tr>\n",
       "      <th>11681</th>\n",
       "      <td>2022-01-04 22:00:09.955230+00:00</td>\n",
       "      <td>0</td>\n",
       "      <td>2022-01-05</td>\n",
       "      <td>1</td>\n",
       "      <td>22</td>\n",
       "      <td>3</td>\n",
       "      <td>1.000000</td>\n",
       "      <td>1.380000e-07</td>\n",
       "    </tr>\n",
       "    <tr>\n",
       "      <th>11682</th>\n",
       "      <td>2022-01-04 22:00:09.955230+00:00</td>\n",
       "      <td>0</td>\n",
       "      <td>2022-01-05</td>\n",
       "      <td>1</td>\n",
       "      <td>22</td>\n",
       "      <td>4</td>\n",
       "      <td>0.999999</td>\n",
       "      <td>1.160000e-06</td>\n",
       "    </tr>\n",
       "  </tbody>\n",
       "</table>\n",
       "</div>"
      ],
      "text/plain": [
       "                          extract_dttm  days        date  dow  hour  \\\n",
       "11678 2022-01-04 22:00:09.955230+00:00     0  2022-01-05    1    22   \n",
       "11679 2022-01-04 22:00:09.955230+00:00     0  2022-01-05    1    22   \n",
       "11680 2022-01-04 22:00:09.955230+00:00     0  2022-01-05    1    22   \n",
       "11681 2022-01-04 22:00:09.955230+00:00     0  2022-01-05    1    22   \n",
       "11682 2022-01-04 22:00:09.955230+00:00     0  2022-01-05    1    22   \n",
       "\n",
       "       num_adm_pred  prob_this_num         probs  \n",
       "11678             0       1.000000  1.720000e-11  \n",
       "11679             1       1.000000  6.520000e-10  \n",
       "11680             2       1.000000  1.190000e-08  \n",
       "11681             3       1.000000  1.380000e-07  \n",
       "11682             4       0.999999  1.160000e-06  "
      ]
     },
     "execution_count": 368,
     "metadata": {},
     "output_type": "execute_result"
    }
   ],
   "source": [
    "df0 = df.loc[(df.extract_dttm == df.extract_dttm.max())]\n",
    "df0.head()"
   ]
  },
  {
   "cell_type": "code",
   "execution_count": 398,
   "id": "2882d545-8c50-4975-8c7a-d41a7d226900",
   "metadata": {},
   "outputs": [
    {
     "data": {
      "text/plain": [
       "22"
      ]
     },
     "execution_count": 398,
     "metadata": {},
     "output_type": "execute_result"
    }
   ],
   "source": [
    "df0.iloc[0]['hour']"
   ]
  },
  {
   "cell_type": "code",
   "execution_count": 369,
   "id": "7c78812c-85e7-401a-8daa-38a045cbf4d7",
   "metadata": {},
   "outputs": [
    {
     "data": {
      "application/vnd.plotly.v1+json": {
       "config": {
        "plotlyServerURL": "https://plot.ly"
       },
       "data": [
        {
         "mode": "lines+markers",
         "type": "scatter",
         "x": [
          0,
          1,
          2,
          3,
          4,
          5,
          6,
          7,
          8,
          9,
          10,
          11,
          12,
          13,
          14,
          15,
          16,
          17,
          18,
          19,
          20,
          21,
          22,
          23,
          24,
          25,
          26,
          27,
          28,
          29,
          30,
          31,
          32,
          33,
          34,
          35,
          36,
          37,
          38,
          39,
          40,
          41,
          42,
          43,
          44,
          45,
          46,
          47,
          48,
          49,
          50,
          51,
          52,
          53,
          54,
          55,
          56,
          57,
          58,
          59,
          60,
          61,
          62,
          63,
          64,
          65,
          66,
          67,
          68,
          69,
          70,
          71,
          72,
          73,
          74,
          75,
          76,
          77,
          78,
          79
         ],
         "y": [
          1.72e-11,
          6.52e-10,
          1.19e-08,
          1.38e-07,
          1.16e-06,
          7.47e-06,
          3.84e-05,
          0.000162586,
          0.000577365,
          0.001747777,
          0.004565999,
          0.010397426,
          0.020808189,
          0.036853339,
          0.058108204,
          0.081990441,
          0.104000425,
          0.119075272,
          0.123515068,
          0.116463205,
          0.10013207,
          0.078727321,
          0.056757173,
          0.037615776,
          0.02297366,
          0.012960207,
          0.006768391,
          0.003279324,
          0.001477088,
          0.000619742,
          0.000242668,
          8.88e-05,
          3.04e-05,
          9.78e-06,
          2.95e-06,
          8.34e-07,
          2.21e-07,
          5.5e-08,
          1.28e-08,
          2.77e-09,
          5.57e-10,
          1.04e-10,
          1.78e-11,
          2.81e-12,
          4.06e-13,
          5.34e-14,
          6.38e-15,
          6.91e-16,
          6.76e-17,
          5.95e-18,
          4.71e-19,
          3.35e-20,
          2.13e-21,
          1.21e-22,
          6.11e-24,
          2.76e-25,
          1.1e-26,
          3.9099999999999997e-28,
          1.2300000000000001e-29,
          3.4200000000000002e-31,
          8.37e-33,
          1.7999999999999998e-34,
          3.41e-36,
          5.669999999999999e-38,
          8.219999999999999e-40,
          1.04e-41,
          1.14e-43,
          1.0899999999999999e-45,
          8.899999999999999e-48,
          6.25e-50,
          3.73e-52,
          1.8799999999999997e-54,
          7.91e-57,
          2.74e-59,
          7.64e-62,
          1.68e-64,
          2.7899999999999998e-67,
          3.28e-70,
          2.4400000000000003e-73,
          8.620000000000001e-77
         ]
        }
       ],
       "layout": {
        "autosize": true,
        "template": {
         "data": {
          "bar": [
           {
            "error_x": {
             "color": "#2a3f5f"
            },
            "error_y": {
             "color": "#2a3f5f"
            },
            "marker": {
             "line": {
              "color": "#E5ECF6",
              "width": 0.5
             },
             "pattern": {
              "fillmode": "overlay",
              "size": 10,
              "solidity": 0.2
             }
            },
            "type": "bar"
           }
          ],
          "barpolar": [
           {
            "marker": {
             "line": {
              "color": "#E5ECF6",
              "width": 0.5
             },
             "pattern": {
              "fillmode": "overlay",
              "size": 10,
              "solidity": 0.2
             }
            },
            "type": "barpolar"
           }
          ],
          "carpet": [
           {
            "aaxis": {
             "endlinecolor": "#2a3f5f",
             "gridcolor": "white",
             "linecolor": "white",
             "minorgridcolor": "white",
             "startlinecolor": "#2a3f5f"
            },
            "baxis": {
             "endlinecolor": "#2a3f5f",
             "gridcolor": "white",
             "linecolor": "white",
             "minorgridcolor": "white",
             "startlinecolor": "#2a3f5f"
            },
            "type": "carpet"
           }
          ],
          "choropleth": [
           {
            "colorbar": {
             "outlinewidth": 0,
             "ticks": ""
            },
            "type": "choropleth"
           }
          ],
          "contour": [
           {
            "colorbar": {
             "outlinewidth": 0,
             "ticks": ""
            },
            "colorscale": [
             [
              0,
              "#0d0887"
             ],
             [
              0.1111111111111111,
              "#46039f"
             ],
             [
              0.2222222222222222,
              "#7201a8"
             ],
             [
              0.3333333333333333,
              "#9c179e"
             ],
             [
              0.4444444444444444,
              "#bd3786"
             ],
             [
              0.5555555555555556,
              "#d8576b"
             ],
             [
              0.6666666666666666,
              "#ed7953"
             ],
             [
              0.7777777777777778,
              "#fb9f3a"
             ],
             [
              0.8888888888888888,
              "#fdca26"
             ],
             [
              1,
              "#f0f921"
             ]
            ],
            "type": "contour"
           }
          ],
          "contourcarpet": [
           {
            "colorbar": {
             "outlinewidth": 0,
             "ticks": ""
            },
            "type": "contourcarpet"
           }
          ],
          "heatmap": [
           {
            "colorbar": {
             "outlinewidth": 0,
             "ticks": ""
            },
            "colorscale": [
             [
              0,
              "#0d0887"
             ],
             [
              0.1111111111111111,
              "#46039f"
             ],
             [
              0.2222222222222222,
              "#7201a8"
             ],
             [
              0.3333333333333333,
              "#9c179e"
             ],
             [
              0.4444444444444444,
              "#bd3786"
             ],
             [
              0.5555555555555556,
              "#d8576b"
             ],
             [
              0.6666666666666666,
              "#ed7953"
             ],
             [
              0.7777777777777778,
              "#fb9f3a"
             ],
             [
              0.8888888888888888,
              "#fdca26"
             ],
             [
              1,
              "#f0f921"
             ]
            ],
            "type": "heatmap"
           }
          ],
          "heatmapgl": [
           {
            "colorbar": {
             "outlinewidth": 0,
             "ticks": ""
            },
            "colorscale": [
             [
              0,
              "#0d0887"
             ],
             [
              0.1111111111111111,
              "#46039f"
             ],
             [
              0.2222222222222222,
              "#7201a8"
             ],
             [
              0.3333333333333333,
              "#9c179e"
             ],
             [
              0.4444444444444444,
              "#bd3786"
             ],
             [
              0.5555555555555556,
              "#d8576b"
             ],
             [
              0.6666666666666666,
              "#ed7953"
             ],
             [
              0.7777777777777778,
              "#fb9f3a"
             ],
             [
              0.8888888888888888,
              "#fdca26"
             ],
             [
              1,
              "#f0f921"
             ]
            ],
            "type": "heatmapgl"
           }
          ],
          "histogram": [
           {
            "marker": {
             "pattern": {
              "fillmode": "overlay",
              "size": 10,
              "solidity": 0.2
             }
            },
            "type": "histogram"
           }
          ],
          "histogram2d": [
           {
            "colorbar": {
             "outlinewidth": 0,
             "ticks": ""
            },
            "colorscale": [
             [
              0,
              "#0d0887"
             ],
             [
              0.1111111111111111,
              "#46039f"
             ],
             [
              0.2222222222222222,
              "#7201a8"
             ],
             [
              0.3333333333333333,
              "#9c179e"
             ],
             [
              0.4444444444444444,
              "#bd3786"
             ],
             [
              0.5555555555555556,
              "#d8576b"
             ],
             [
              0.6666666666666666,
              "#ed7953"
             ],
             [
              0.7777777777777778,
              "#fb9f3a"
             ],
             [
              0.8888888888888888,
              "#fdca26"
             ],
             [
              1,
              "#f0f921"
             ]
            ],
            "type": "histogram2d"
           }
          ],
          "histogram2dcontour": [
           {
            "colorbar": {
             "outlinewidth": 0,
             "ticks": ""
            },
            "colorscale": [
             [
              0,
              "#0d0887"
             ],
             [
              0.1111111111111111,
              "#46039f"
             ],
             [
              0.2222222222222222,
              "#7201a8"
             ],
             [
              0.3333333333333333,
              "#9c179e"
             ],
             [
              0.4444444444444444,
              "#bd3786"
             ],
             [
              0.5555555555555556,
              "#d8576b"
             ],
             [
              0.6666666666666666,
              "#ed7953"
             ],
             [
              0.7777777777777778,
              "#fb9f3a"
             ],
             [
              0.8888888888888888,
              "#fdca26"
             ],
             [
              1,
              "#f0f921"
             ]
            ],
            "type": "histogram2dcontour"
           }
          ],
          "mesh3d": [
           {
            "colorbar": {
             "outlinewidth": 0,
             "ticks": ""
            },
            "type": "mesh3d"
           }
          ],
          "parcoords": [
           {
            "line": {
             "colorbar": {
              "outlinewidth": 0,
              "ticks": ""
             }
            },
            "type": "parcoords"
           }
          ],
          "pie": [
           {
            "automargin": true,
            "type": "pie"
           }
          ],
          "scatter": [
           {
            "marker": {
             "colorbar": {
              "outlinewidth": 0,
              "ticks": ""
             }
            },
            "type": "scatter"
           }
          ],
          "scatter3d": [
           {
            "line": {
             "colorbar": {
              "outlinewidth": 0,
              "ticks": ""
             }
            },
            "marker": {
             "colorbar": {
              "outlinewidth": 0,
              "ticks": ""
             }
            },
            "type": "scatter3d"
           }
          ],
          "scattercarpet": [
           {
            "marker": {
             "colorbar": {
              "outlinewidth": 0,
              "ticks": ""
             }
            },
            "type": "scattercarpet"
           }
          ],
          "scattergeo": [
           {
            "marker": {
             "colorbar": {
              "outlinewidth": 0,
              "ticks": ""
             }
            },
            "type": "scattergeo"
           }
          ],
          "scattergl": [
           {
            "marker": {
             "colorbar": {
              "outlinewidth": 0,
              "ticks": ""
             }
            },
            "type": "scattergl"
           }
          ],
          "scattermapbox": [
           {
            "marker": {
             "colorbar": {
              "outlinewidth": 0,
              "ticks": ""
             }
            },
            "type": "scattermapbox"
           }
          ],
          "scatterpolar": [
           {
            "marker": {
             "colorbar": {
              "outlinewidth": 0,
              "ticks": ""
             }
            },
            "type": "scatterpolar"
           }
          ],
          "scatterpolargl": [
           {
            "marker": {
             "colorbar": {
              "outlinewidth": 0,
              "ticks": ""
             }
            },
            "type": "scatterpolargl"
           }
          ],
          "scatterternary": [
           {
            "marker": {
             "colorbar": {
              "outlinewidth": 0,
              "ticks": ""
             }
            },
            "type": "scatterternary"
           }
          ],
          "surface": [
           {
            "colorbar": {
             "outlinewidth": 0,
             "ticks": ""
            },
            "colorscale": [
             [
              0,
              "#0d0887"
             ],
             [
              0.1111111111111111,
              "#46039f"
             ],
             [
              0.2222222222222222,
              "#7201a8"
             ],
             [
              0.3333333333333333,
              "#9c179e"
             ],
             [
              0.4444444444444444,
              "#bd3786"
             ],
             [
              0.5555555555555556,
              "#d8576b"
             ],
             [
              0.6666666666666666,
              "#ed7953"
             ],
             [
              0.7777777777777778,
              "#fb9f3a"
             ],
             [
              0.8888888888888888,
              "#fdca26"
             ],
             [
              1,
              "#f0f921"
             ]
            ],
            "type": "surface"
           }
          ],
          "table": [
           {
            "cells": {
             "fill": {
              "color": "#EBF0F8"
             },
             "line": {
              "color": "white"
             }
            },
            "header": {
             "fill": {
              "color": "#C8D4E3"
             },
             "line": {
              "color": "white"
             }
            },
            "type": "table"
           }
          ]
         },
         "layout": {
          "annotationdefaults": {
           "arrowcolor": "#2a3f5f",
           "arrowhead": 0,
           "arrowwidth": 1
          },
          "autotypenumbers": "strict",
          "coloraxis": {
           "colorbar": {
            "outlinewidth": 0,
            "ticks": ""
           }
          },
          "colorscale": {
           "diverging": [
            [
             0,
             "#8e0152"
            ],
            [
             0.1,
             "#c51b7d"
            ],
            [
             0.2,
             "#de77ae"
            ],
            [
             0.3,
             "#f1b6da"
            ],
            [
             0.4,
             "#fde0ef"
            ],
            [
             0.5,
             "#f7f7f7"
            ],
            [
             0.6,
             "#e6f5d0"
            ],
            [
             0.7,
             "#b8e186"
            ],
            [
             0.8,
             "#7fbc41"
            ],
            [
             0.9,
             "#4d9221"
            ],
            [
             1,
             "#276419"
            ]
           ],
           "sequential": [
            [
             0,
             "#0d0887"
            ],
            [
             0.1111111111111111,
             "#46039f"
            ],
            [
             0.2222222222222222,
             "#7201a8"
            ],
            [
             0.3333333333333333,
             "#9c179e"
            ],
            [
             0.4444444444444444,
             "#bd3786"
            ],
            [
             0.5555555555555556,
             "#d8576b"
            ],
            [
             0.6666666666666666,
             "#ed7953"
            ],
            [
             0.7777777777777778,
             "#fb9f3a"
            ],
            [
             0.8888888888888888,
             "#fdca26"
            ],
            [
             1,
             "#f0f921"
            ]
           ],
           "sequentialminus": [
            [
             0,
             "#0d0887"
            ],
            [
             0.1111111111111111,
             "#46039f"
            ],
            [
             0.2222222222222222,
             "#7201a8"
            ],
            [
             0.3333333333333333,
             "#9c179e"
            ],
            [
             0.4444444444444444,
             "#bd3786"
            ],
            [
             0.5555555555555556,
             "#d8576b"
            ],
            [
             0.6666666666666666,
             "#ed7953"
            ],
            [
             0.7777777777777778,
             "#fb9f3a"
            ],
            [
             0.8888888888888888,
             "#fdca26"
            ],
            [
             1,
             "#f0f921"
            ]
           ]
          },
          "colorway": [
           "#636efa",
           "#EF553B",
           "#00cc96",
           "#ab63fa",
           "#FFA15A",
           "#19d3f3",
           "#FF6692",
           "#B6E880",
           "#FF97FF",
           "#FECB52"
          ],
          "font": {
           "color": "#2a3f5f"
          },
          "geo": {
           "bgcolor": "white",
           "lakecolor": "white",
           "landcolor": "#E5ECF6",
           "showlakes": true,
           "showland": true,
           "subunitcolor": "white"
          },
          "hoverlabel": {
           "align": "left"
          },
          "hovermode": "closest",
          "mapbox": {
           "style": "light"
          },
          "paper_bgcolor": "white",
          "plot_bgcolor": "#E5ECF6",
          "polar": {
           "angularaxis": {
            "gridcolor": "white",
            "linecolor": "white",
            "ticks": ""
           },
           "bgcolor": "#E5ECF6",
           "radialaxis": {
            "gridcolor": "white",
            "linecolor": "white",
            "ticks": ""
           }
          },
          "scene": {
           "xaxis": {
            "backgroundcolor": "#E5ECF6",
            "gridcolor": "white",
            "gridwidth": 2,
            "linecolor": "white",
            "showbackground": true,
            "ticks": "",
            "zerolinecolor": "white"
           },
           "yaxis": {
            "backgroundcolor": "#E5ECF6",
            "gridcolor": "white",
            "gridwidth": 2,
            "linecolor": "white",
            "showbackground": true,
            "ticks": "",
            "zerolinecolor": "white"
           },
           "zaxis": {
            "backgroundcolor": "#E5ECF6",
            "gridcolor": "white",
            "gridwidth": 2,
            "linecolor": "white",
            "showbackground": true,
            "ticks": "",
            "zerolinecolor": "white"
           }
          },
          "shapedefaults": {
           "line": {
            "color": "#2a3f5f"
           }
          },
          "ternary": {
           "aaxis": {
            "gridcolor": "white",
            "linecolor": "white",
            "ticks": ""
           },
           "baxis": {
            "gridcolor": "white",
            "linecolor": "white",
            "ticks": ""
           },
           "bgcolor": "#E5ECF6",
           "caxis": {
            "gridcolor": "white",
            "linecolor": "white",
            "ticks": ""
           }
          },
          "title": {
           "x": 0.05
          },
          "xaxis": {
           "automargin": true,
           "gridcolor": "white",
           "linecolor": "white",
           "ticks": "",
           "title": {
            "standoff": 15
           },
           "zerolinecolor": "white",
           "zerolinewidth": 2
          },
          "yaxis": {
           "automargin": true,
           "gridcolor": "white",
           "linecolor": "white",
           "ticks": "",
           "title": {
            "standoff": 15
           },
           "zerolinecolor": "white",
           "zerolinewidth": 2
          }
         }
        },
        "xaxis": {
         "autorange": true,
         "range": [
          -4.86656508489334,
          83.86656508489334
         ],
         "type": "linear"
        },
        "yaxis": {
         "autorange": true,
         "range": [
          -0.01019299104854369,
          0.1337080590485437
         ],
         "type": "linear"
        }
       }
      },
      "image/png": "[encoded data removed]",
      "text/html": [
       "<div>                            <div id=\"7c21415a-6ab9-4137-9dc6-51d988e947ae\" class=\"plotly-graph-div\" style=\"height:525px; width:100%;\"></div>            <script type=\"text/javascript\">                require([\"plotly\"], function(Plotly) {                    window.PLOTLYENV=window.PLOTLYENV || {};                                    if (document.getElementById(\"7c21415a-6ab9-4137-9dc6-51d988e947ae\")) {                    Plotly.newPlot(                        \"7c21415a-6ab9-4137-9dc6-51d988e947ae\",                        [{\"mode\":\"lines+markers\",\"type\":\"scatter\",\"x\":[0,1,2,3,4,5,6,7,8,9,10,11,12,13,14,15,16,17,18,19,20,21,22,23,24,25,26,27,28,29,30,31,32,33,34,35,36,37,38,39,40,41,42,43,44,45,46,47,48,49,50,51,52,53,54,55,56,57,58,59,60,61,62,63,64,65,66,67,68,69,70,71,72,73,74,75,76,77,78,79],\"y\":[1.72e-11,6.52e-10,1.19e-08,1.38e-07,1.16e-06,7.47e-06,3.84e-05,0.000162586,0.000577365,0.001747777,0.004565999,0.010397426,0.020808189,0.036853339,0.058108204,0.081990441,0.104000425,0.119075272,0.123515068,0.116463205,0.10013207,0.078727321,0.056757173,0.037615776,0.02297366,0.012960207,0.006768391,0.003279324,0.001477088,0.000619742,0.000242668,8.88e-05,3.04e-05,9.78e-06,2.95e-06,8.34e-07,2.21e-07,5.5e-08,1.28e-08,2.77e-09,5.57e-10,1.04e-10,1.78e-11,2.81e-12,4.06e-13,5.34e-14,6.38e-15,6.91e-16,6.76e-17,5.95e-18,4.71e-19,3.35e-20,2.13e-21,1.21e-22,6.11e-24,2.76e-25,1.1e-26,3.9099999999999997e-28,1.2300000000000001e-29,3.4200000000000002e-31,8.37e-33,1.7999999999999998e-34,3.41e-36,5.669999999999999e-38,8.219999999999999e-40,1.04e-41,1.14e-43,1.0899999999999999e-45,8.899999999999999e-48,6.25e-50,3.73e-52,1.8799999999999997e-54,7.91e-57,2.74e-59,7.64e-62,1.68e-64,2.7899999999999998e-67,3.28e-70,2.4400000000000003e-73,8.620000000000001e-77]}],                        {\"template\":{\"data\":{\"bar\":[{\"error_x\":{\"color\":\"#2a3f5f\"},\"error_y\":{\"color\":\"#2a3f5f\"},\"marker\":{\"line\":{\"color\":\"#E5ECF6\",\"width\":0.5},\"pattern\":{\"fillmode\":\"overlay\",\"size\":10,\"solidity\":0.2}},\"type\":\"bar\"}],\"barpolar\":[{\"marker\":{\"line\":{\"color\":\"#E5ECF6\",\"width\":0.5},\"pattern\":{\"fillmode\":\"overlay\",\"size\":10,\"solidity\":0.2}},\"type\":\"barpolar\"}],\"carpet\":[{\"aaxis\":{\"endlinecolor\":\"#2a3f5f\",\"gridcolor\":\"white\",\"linecolor\":\"white\",\"minorgridcolor\":\"white\",\"startlinecolor\":\"#2a3f5f\"},\"baxis\":{\"endlinecolor\":\"#2a3f5f\",\"gridcolor\":\"white\",\"linecolor\":\"white\",\"minorgridcolor\":\"white\",\"startlinecolor\":\"#2a3f5f\"},\"type\":\"carpet\"}],\"choropleth\":[{\"colorbar\":{\"outlinewidth\":0,\"ticks\":\"\"},\"type\":\"choropleth\"}],\"contour\":[{\"colorbar\":{\"outlinewidth\":0,\"ticks\":\"\"},\"colorscale\":[[0.0,\"#0d0887\"],[0.1111111111111111,\"#46039f\"],[0.2222222222222222,\"#7201a8\"],[0.3333333333333333,\"#9c179e\"],[0.4444444444444444,\"#bd3786\"],[0.5555555555555556,\"#d8576b\"],[0.6666666666666666,\"#ed7953\"],[0.7777777777777778,\"#fb9f3a\"],[0.8888888888888888,\"#fdca26\"],[1.0,\"#f0f921\"]],\"type\":\"contour\"}],\"contourcarpet\":[{\"colorbar\":{\"outlinewidth\":0,\"ticks\":\"\"},\"type\":\"contourcarpet\"}],\"heatmap\":[{\"colorbar\":{\"outlinewidth\":0,\"ticks\":\"\"},\"colorscale\":[[0.0,\"#0d0887\"],[0.1111111111111111,\"#46039f\"],[0.2222222222222222,\"#7201a8\"],[0.3333333333333333,\"#9c179e\"],[0.4444444444444444,\"#bd3786\"],[0.5555555555555556,\"#d8576b\"],[0.6666666666666666,\"#ed7953\"],[0.7777777777777778,\"#fb9f3a\"],[0.8888888888888888,\"#fdca26\"],[1.0,\"#f0f921\"]],\"type\":\"heatmap\"}],\"heatmapgl\":[{\"colorbar\":{\"outlinewidth\":0,\"ticks\":\"\"},\"colorscale\":[[0.0,\"#0d0887\"],[0.1111111111111111,\"#46039f\"],[0.2222222222222222,\"#7201a8\"],[0.3333333333333333,\"#9c179e\"],[0.4444444444444444,\"#bd3786\"],[0.5555555555555556,\"#d8576b\"],[0.6666666666666666,\"#ed7953\"],[0.7777777777777778,\"#fb9f3a\"],[0.8888888888888888,\"#fdca26\"],[1.0,\"#f0f921\"]],\"type\":\"heatmapgl\"}],\"histogram\":[{\"marker\":{\"pattern\":{\"fillmode\":\"overlay\",\"size\":10,\"solidity\":0.2}},\"type\":\"histogram\"}],\"histogram2d\":[{\"colorbar\":{\"outlinewidth\":0,\"ticks\":\"\"},\"colorscale\":[[0.0,\"#0d0887\"],[0.1111111111111111,\"#46039f\"],[0.2222222222222222,\"#7201a8\"],[0.3333333333333333,\"#9c179e\"],[0.4444444444444444,\"#bd3786\"],[0.5555555555555556,\"#d8576b\"],[0.6666666666666666,\"#ed7953\"],[0.7777777777777778,\"#fb9f3a\"],[0.8888888888888888,\"#fdca26\"],[1.0,\"#f0f921\"]],\"type\":\"histogram2d\"}],\"histogram2dcontour\":[{\"colorbar\":{\"outlinewidth\":0,\"ticks\":\"\"},\"colorscale\":[[0.0,\"#0d0887\"],[0.1111111111111111,\"#46039f\"],[0.2222222222222222,\"#7201a8\"],[0.3333333333333333,\"#9c179e\"],[0.4444444444444444,\"#bd3786\"],[0.5555555555555556,\"#d8576b\"],[0.6666666666666666,\"#ed7953\"],[0.7777777777777778,\"#fb9f3a\"],[0.8888888888888888,\"#fdca26\"],[1.0,\"#f0f921\"]],\"type\":\"histogram2dcontour\"}],\"mesh3d\":[{\"colorbar\":{\"outlinewidth\":0,\"ticks\":\"\"},\"type\":\"mesh3d\"}],\"parcoords\":[{\"line\":{\"colorbar\":{\"outlinewidth\":0,\"ticks\":\"\"}},\"type\":\"parcoords\"}],\"pie\":[{\"automargin\":true,\"type\":\"pie\"}],\"scatter\":[{\"marker\":{\"colorbar\":{\"outlinewidth\":0,\"ticks\":\"\"}},\"type\":\"scatter\"}],\"scatter3d\":[{\"line\":{\"colorbar\":{\"outlinewidth\":0,\"ticks\":\"\"}},\"marker\":{\"colorbar\":{\"outlinewidth\":0,\"ticks\":\"\"}},\"type\":\"scatter3d\"}],\"scattercarpet\":[{\"marker\":{\"colorbar\":{\"outlinewidth\":0,\"ticks\":\"\"}},\"type\":\"scattercarpet\"}],\"scattergeo\":[{\"marker\":{\"colorbar\":{\"outlinewidth\":0,\"ticks\":\"\"}},\"type\":\"scattergeo\"}],\"scattergl\":[{\"marker\":{\"colorbar\":{\"outlinewidth\":0,\"ticks\":\"\"}},\"type\":\"scattergl\"}],\"scattermapbox\":[{\"marker\":{\"colorbar\":{\"outlinewidth\":0,\"ticks\":\"\"}},\"type\":\"scattermapbox\"}],\"scatterpolar\":[{\"marker\":{\"colorbar\":{\"outlinewidth\":0,\"ticks\":\"\"}},\"type\":\"scatterpolar\"}],\"scatterpolargl\":[{\"marker\":{\"colorbar\":{\"outlinewidth\":0,\"ticks\":\"\"}},\"type\":\"scatterpolargl\"}],\"scatterternary\":[{\"marker\":{\"colorbar\":{\"outlinewidth\":0,\"ticks\":\"\"}},\"type\":\"scatterternary\"}],\"surface\":[{\"colorbar\":{\"outlinewidth\":0,\"ticks\":\"\"},\"colorscale\":[[0.0,\"#0d0887\"],[0.1111111111111111,\"#46039f\"],[0.2222222222222222,\"#7201a8\"],[0.3333333333333333,\"#9c179e\"],[0.4444444444444444,\"#bd3786\"],[0.5555555555555556,\"#d8576b\"],[0.6666666666666666,\"#ed7953\"],[0.7777777777777778,\"#fb9f3a\"],[0.8888888888888888,\"#fdca26\"],[1.0,\"#f0f921\"]],\"type\":\"surface\"}],\"table\":[{\"cells\":{\"fill\":{\"color\":\"#EBF0F8\"},\"line\":{\"color\":\"white\"}},\"header\":{\"fill\":{\"color\":\"#C8D4E3\"},\"line\":{\"color\":\"white\"}},\"type\":\"table\"}]},\"layout\":{\"annotationdefaults\":{\"arrowcolor\":\"#2a3f5f\",\"arrowhead\":0,\"arrowwidth\":1},\"autotypenumbers\":\"strict\",\"coloraxis\":{\"colorbar\":{\"outlinewidth\":0,\"ticks\":\"\"}},\"colorscale\":{\"diverging\":[[0,\"#8e0152\"],[0.1,\"#c51b7d\"],[0.2,\"#de77ae\"],[0.3,\"#f1b6da\"],[0.4,\"#fde0ef\"],[0.5,\"#f7f7f7\"],[0.6,\"#e6f5d0\"],[0.7,\"#b8e186\"],[0.8,\"#7fbc41\"],[0.9,\"#4d9221\"],[1,\"#276419\"]],\"sequential\":[[0.0,\"#0d0887\"],[0.1111111111111111,\"#46039f\"],[0.2222222222222222,\"#7201a8\"],[0.3333333333333333,\"#9c179e\"],[0.4444444444444444,\"#bd3786\"],[0.5555555555555556,\"#d8576b\"],[0.6666666666666666,\"#ed7953\"],[0.7777777777777778,\"#fb9f3a\"],[0.8888888888888888,\"#fdca26\"],[1.0,\"#f0f921\"]],\"sequentialminus\":[[0.0,\"#0d0887\"],[0.1111111111111111,\"#46039f\"],[0.2222222222222222,\"#7201a8\"],[0.3333333333333333,\"#9c179e\"],[0.4444444444444444,\"#bd3786\"],[0.5555555555555556,\"#d8576b\"],[0.6666666666666666,\"#ed7953\"],[0.7777777777777778,\"#fb9f3a\"],[0.8888888888888888,\"#fdca26\"],[1.0,\"#f0f921\"]]},\"colorway\":[\"#636efa\",\"#EF553B\",\"#00cc96\",\"#ab63fa\",\"#FFA15A\",\"#19d3f3\",\"#FF6692\",\"#B6E880\",\"#FF97FF\",\"#FECB52\"],\"font\":{\"color\":\"#2a3f5f\"},\"geo\":{\"bgcolor\":\"white\",\"lakecolor\":\"white\",\"landcolor\":\"#E5ECF6\",\"showlakes\":true,\"showland\":true,\"subunitcolor\":\"white\"},\"hoverlabel\":{\"align\":\"left\"},\"hovermode\":\"closest\",\"mapbox\":{\"style\":\"light\"},\"paper_bgcolor\":\"white\",\"plot_bgcolor\":\"#E5ECF6\",\"polar\":{\"angularaxis\":{\"gridcolor\":\"white\",\"linecolor\":\"white\",\"ticks\":\"\"},\"bgcolor\":\"#E5ECF6\",\"radialaxis\":{\"gridcolor\":\"white\",\"linecolor\":\"white\",\"ticks\":\"\"}},\"scene\":{\"xaxis\":{\"backgroundcolor\":\"#E5ECF6\",\"gridcolor\":\"white\",\"gridwidth\":2,\"linecolor\":\"white\",\"showbackground\":true,\"ticks\":\"\",\"zerolinecolor\":\"white\"},\"yaxis\":{\"backgroundcolor\":\"#E5ECF6\",\"gridcolor\":\"white\",\"gridwidth\":2,\"linecolor\":\"white\",\"showbackground\":true,\"ticks\":\"\",\"zerolinecolor\":\"white\"},\"zaxis\":{\"backgroundcolor\":\"#E5ECF6\",\"gridcolor\":\"white\",\"gridwidth\":2,\"linecolor\":\"white\",\"showbackground\":true,\"ticks\":\"\",\"zerolinecolor\":\"white\"}},\"shapedefaults\":{\"line\":{\"color\":\"#2a3f5f\"}},\"ternary\":{\"aaxis\":{\"gridcolor\":\"white\",\"linecolor\":\"white\",\"ticks\":\"\"},\"baxis\":{\"gridcolor\":\"white\",\"linecolor\":\"white\",\"ticks\":\"\"},\"bgcolor\":\"#E5ECF6\",\"caxis\":{\"gridcolor\":\"white\",\"linecolor\":\"white\",\"ticks\":\"\"}},\"title\":{\"x\":0.05},\"xaxis\":{\"automargin\":true,\"gridcolor\":\"white\",\"linecolor\":\"white\",\"ticks\":\"\",\"title\":{\"standoff\":15},\"zerolinecolor\":\"white\",\"zerolinewidth\":2},\"yaxis\":{\"automargin\":true,\"gridcolor\":\"white\",\"linecolor\":\"white\",\"ticks\":\"\",\"title\":{\"standoff\":15},\"zerolinecolor\":\"white\",\"zerolinewidth\":2}}}},                        {\"responsive\": true}                    ).then(function(){\n",
       "                            \n",
       "var gd = document.getElementById('7c21415a-6ab9-4137-9dc6-51d988e947ae');\n",
       "var x = new MutationObserver(function (mutations, observer) {{\n",
       "        var display = window.getComputedStyle(gd).display;\n",
       "        if (!display || display === 'none') {{\n",
       "            console.log([gd, 'removed!']);\n",
       "            Plotly.purge(gd);\n",
       "            observer.disconnect();\n",
       "        }}\n",
       "}});\n",
       "\n",
       "// Listen for the removal of the full notebook cells\n",
       "var notebookContainer = gd.closest('#notebook-container');\n",
       "if (notebookContainer) {{\n",
       "    x.observe(notebookContainer, {childList: true});\n",
       "}}\n",
       "\n",
       "// Listen for the clearing of the current output cell\n",
       "var outputEl = gd.closest('.output');\n",
       "if (outputEl) {{\n",
       "    x.observe(outputEl, {childList: true});\n",
       "}}\n",
       "\n",
       "                        })                };                });            </script>        </div>"
      ]
     },
     "metadata": {},
     "output_type": "display_data"
    }
   ],
   "source": [
    "go.Figure(\n",
    "    data=go.Scatter(x=df0.num_adm_pred, y=df0.probs, mode='lines+markers')\n",
    ")"
   ]
  },
  {
   "cell_type": "markdown",
   "id": "cb423ee2-03a6-429c-9c97-9a35c6a39650",
   "metadata": {},
   "source": [
    "### Plot multiple forecasts from the same time the last 28ish days"
   ]
  },
  {
   "cell_type": "code",
   "execution_count": 370,
   "id": "7433ff4b-728c-42db-b89d-e1bf6232116c",
   "metadata": {},
   "outputs": [],
   "source": [
    "#dfr = df recent (same hour, same day of the week)\n",
    "dfr = df.loc[((df.hour==df0.iloc[0].hour) & (df.dow==df0.iloc[0].dow)),['days',  'num_adm_pred', 'probs']]\n"
   ]
  },
  {
   "cell_type": "code",
   "execution_count": 372,
   "id": "c1888b44-d65d-4622-822c-37ab7968e9cd",
   "metadata": {},
   "outputs": [
    {
     "data": {
      "text/plain": [
       "28    101\n",
       "21    100\n",
       "0      80\n",
       "7      77\n",
       "14     56\n",
       "Name: days, dtype: int64"
      ]
     },
     "execution_count": 372,
     "metadata": {},
     "output_type": "execute_result"
    }
   ],
   "source": [
    "dfr.days.value_counts()"
   ]
  },
  {
   "cell_type": "markdown",
   "id": "f5aa0d77-eb07-4e65-abf0-4e2dba48541c",
   "metadata": {},
   "source": [
    "Using the [ridgeplot](https://github.com/tpvasconcelos/ridgeplot) package which in turn also uses plotly for this. We need to prepare the data as a series of (2,n) arrays for this where 'n' is the same for all densities."
   ]
  },
  {
   "cell_type": "markdown",
   "id": "a7aeb9a7-a280-4a3f-bbd8-e0739529ae17",
   "metadata": {},
   "source": [
    "Prepare a list of days (should be multiples of 7 into the past)"
   ]
  },
  {
   "cell_type": "code",
   "execution_count": 395,
   "id": "69e6028d-fdc8-4269-a367-0d3c4c90141f",
   "metadata": {},
   "outputs": [],
   "source": [
    "days = dfr.days.unique()\n",
    "days = days[np.argsort(-days)]"
   ]
  },
  {
   "cell_type": "code",
   "execution_count": 391,
   "id": "8a37a950-05a6-4d75-9cde-69bbb9ba6f77",
   "metadata": {},
   "outputs": [],
   "source": [
    "num_adm_max = dfr.num_adm_pred.max()\n",
    "skeleton = pd.DataFrame(dict(num_adm_pred=range(num_adm_max)))\n",
    "ll = []\n",
    "\n",
    "for day in days:\n",
    "    tt = dfr.loc[dfr.days==day].drop(['days'],axis=1)\n",
    "    tt = pd.merge(skeleton, tt, how='left')\n",
    "    tt = tt.reset_index(drop=True)\n",
    "    tt = tt.loc[:40,]\n",
    "    tt = tt.values.transpose()\n",
    "    ll.append(tt)\n",
    "res = np.asarray(ll)"
   ]
  },
  {
   "cell_type": "code",
   "execution_count": 394,
   "id": "7205b35c-0fe9-4ac7-9adf-8d2bf3574224",
   "metadata": {},
   "outputs": [
    {
     "data": {
      "application/vnd.plotly.v1+json": {
       "config": {
        "plotlyServerURL": "https://plot.ly"
       },
       "data": [
        {
         "line": {
          "color": "rgba(0, 0, 0, 0)",
          "width": 0
         },
         "showlegend": false,
         "type": "scatter",
         "x": [
          0,
          1,
          2,
          3,
          4,
          5,
          6,
          7,
          8,
          9,
          10,
          11,
          12,
          13,
          14,
          15,
          16,
          17,
          18,
          19,
          20,
          21,
          22,
          23,
          24,
          25,
          26,
          27,
          28,
          29,
          30,
          31,
          32,
          33,
          34,
          35,
          36,
          37,
          38,
          39,
          40
         ],
         "y": [
          0,
          0,
          0,
          0,
          0,
          0,
          0,
          0,
          0,
          0,
          0,
          0,
          0,
          0,
          0,
          0,
          0,
          0,
          0,
          0,
          0,
          0,
          0,
          0,
          0,
          0,
          0,
          0,
          0,
          0,
          0,
          0,
          0,
          0,
          0,
          0,
          0,
          0,
          0,
          0,
          0
         ]
        },
        {
         "fill": "tonexty",
         "fillcolor": "rgb(242.0, 188.28622062564224, 56.0)",
         "line": {
          "color": "rgba(0, 0, 0, 0.6)",
          "width": 1.4
         },
         "mode": "lines",
         "name": "28",
         "type": "scatter",
         "x": [
          0,
          1,
          2,
          3,
          4,
          5,
          6,
          7,
          8,
          9,
          10,
          11,
          12,
          13,
          14,
          15,
          16,
          17,
          18,
          19,
          20,
          21,
          22,
          23,
          24,
          25,
          26,
          27,
          28,
          29,
          30,
          31,
          32,
          33,
          34,
          35,
          36,
          37,
          38,
          39,
          40
         ],
         "y": [
          5.41e-14,
          2.31e-12,
          4.82e-11,
          6.53e-10,
          6.48e-09,
          5.02e-08,
          3.16e-07,
          1.66e-06,
          7.45e-06,
          2.9e-05,
          9.88e-05,
          0.000298533,
          0.000805618,
          0.001954917,
          0.004290407,
          0.00855845,
          0.015584368,
          0.026002813,
          0.039887527,
          0.056419489,
          0.073782337,
          0.089423108,
          0.100662507,
          0.105455778,
          0.103003204,
          0.093959474,
          0.08017124,
          0.064079251,
          0.048042941,
          0.03383083,
          0.022402356,
          0.013966029,
          0.008205915,
          0.004548951,
          0.00238156,
          0.001178678,
          0.000551964,
          0.000244785,
          0.00010289,
          4.1e-05,
          1.55e-05
         ]
        },
        {
         "line": {
          "color": "rgba(0, 0, 0, 0)",
          "width": 0
         },
         "showlegend": false,
         "type": "scatter",
         "x": [
          0,
          1,
          2,
          3,
          4,
          5,
          6,
          7,
          8,
          9,
          10,
          11,
          12,
          13,
          14,
          15,
          16,
          17,
          18,
          19,
          20,
          21,
          22,
          23,
          24,
          25,
          26,
          27,
          28,
          29,
          30,
          31,
          32,
          33,
          34,
          35,
          36,
          37,
          38,
          39,
          40
         ],
         "y": [
          -0.026482336000000002,
          -0.026482336000000002,
          -0.026482336000000002,
          -0.026482336000000002,
          -0.026482336000000002,
          -0.026482336000000002,
          -0.026482336000000002,
          -0.026482336000000002,
          -0.026482336000000002,
          -0.026482336000000002,
          -0.026482336000000002,
          -0.026482336000000002,
          -0.026482336000000002,
          -0.026482336000000002,
          -0.026482336000000002,
          -0.026482336000000002,
          -0.026482336000000002,
          -0.026482336000000002,
          -0.026482336000000002,
          -0.026482336000000002,
          -0.026482336000000002,
          -0.026482336000000002,
          -0.026482336000000002,
          -0.026482336000000002,
          -0.026482336000000002,
          -0.026482336000000002,
          -0.026482336000000002,
          -0.026482336000000002,
          -0.026482336000000002,
          -0.026482336000000002,
          -0.026482336000000002,
          -0.026482336000000002,
          -0.026482336000000002,
          -0.026482336000000002,
          -0.026482336000000002,
          -0.026482336000000002,
          -0.026482336000000002,
          -0.026482336000000002,
          -0.026482336000000002,
          -0.026482336000000002,
          -0.026482336000000002
         ]
        },
        {
         "fill": "tonexty",
         "fillcolor": "rgb(234.05312631069467, 208.43096755733663, 60.45298956728317)",
         "line": {
          "color": "rgba(0, 0, 0, 0.6)",
          "width": 1.4
         },
         "mode": "lines",
         "name": "21",
         "type": "scatter",
         "x": [
          0,
          1,
          2,
          3,
          4,
          5,
          6,
          7,
          8,
          9,
          10,
          11,
          12,
          13,
          14,
          15,
          16,
          17,
          18,
          19,
          20,
          21,
          22,
          23,
          24,
          25,
          26,
          27,
          28,
          29,
          30,
          31,
          32,
          33,
          34,
          35,
          36,
          37,
          38,
          39,
          40
         ],
         "y": [
          -0.0264823359879,
          -0.026482335589,
          -0.026482329180000003,
          -0.0264822626,
          -0.026481759,
          -0.026478806,
          -0.026464836000000002,
          -0.026410136,
          -0.026228322000000002,
          -0.025710484000000002,
          -0.024430402000000004,
          -0.021662311000000004,
          -0.016395848000000005,
          -0.007549658000000001,
          0.005580323999999998,
          0.022754185999999996,
          0.042379835,
          0.061573411,
          0.076819989,
          0.08504341099999999,
          0.08462967999999998,
          0.07593356100000001,
          0.061056723,
          0.043051156,
          0.024946481,
          0.009002643999999997,
          -0.003601926000000002,
          -0.012672875000000002,
          -0.018668615000000003,
          -0.022331383000000003,
          -0.024409068000000003,
          -0.025507439000000003,
          -0.026050216,
          -0.026301577000000003,
          -0.026410936000000003,
          -0.026455636,
          -0.026472896000000003,
          -0.026479176000000004,
          -0.026481336,
          -0.026482035,
          -0.026482250300000003
         ]
        },
        {
         "line": {
          "color": "rgba(0, 0, 0, 0)",
          "width": 0
         },
         "showlegend": false,
         "type": "scatter",
         "x": [
          0,
          1,
          2,
          3,
          4,
          5,
          6,
          7,
          8,
          9,
          10,
          11,
          12,
          13,
          14,
          15,
          16,
          17,
          18,
          19,
          20,
          21,
          22,
          23,
          24,
          25,
          26,
          27,
          28,
          29,
          30,
          31,
          32,
          33,
          34,
          35,
          36,
          37,
          38,
          39,
          40
         ],
         "y": [
          -0.052964672000000004,
          -0.052964672000000004,
          -0.052964672000000004,
          -0.052964672000000004,
          -0.052964672000000004,
          -0.052964672000000004,
          -0.052964672000000004,
          -0.052964672000000004,
          -0.052964672000000004,
          -0.052964672000000004,
          -0.052964672000000004,
          -0.052964672000000004,
          -0.052964672000000004,
          -0.052964672000000004,
          -0.052964672000000004,
          -0.052964672000000004,
          -0.052964672000000004,
          -0.052964672000000004,
          -0.052964672000000004,
          -0.052964672000000004,
          -0.052964672000000004,
          -0.052964672000000004,
          -0.052964672000000004,
          -0.052964672000000004,
          -0.052964672000000004,
          -0.052964672000000004,
          -0.052964672000000004,
          -0.052964672000000004,
          -0.052964672000000004,
          -0.052964672000000004,
          -0.052964672000000004,
          -0.052964672000000004,
          -0.052964672000000004,
          -0.052964672000000004,
          -0.052964672000000004,
          -0.052964672000000004,
          -0.052964672000000004,
          -0.052964672000000004,
          -0.052964672000000004,
          -0.052964672000000004,
          -0.052964672000000004
         ]
        },
        {
         "fill": "tonexty",
         "fillcolor": "rgb(94.59396565744564, 163.3471871737432, 138.59820889884512)",
         "line": {
          "color": "rgba(0, 0, 0, 0.6)",
          "width": 1.4
         },
         "mode": "lines",
         "name": "14",
         "type": "scatter",
         "x": [
          0,
          1,
          2,
          3,
          4,
          5,
          6,
          7,
          8,
          9,
          10,
          11,
          12,
          13,
          14,
          15,
          16,
          17,
          18,
          19,
          20,
          21,
          22,
          23,
          24,
          25,
          26,
          27,
          28,
          29,
          30,
          31,
          32,
          33,
          34,
          35,
          36,
          37,
          38,
          39,
          40
         ],
         "y": [
          -0.052964642400000005,
          -0.05296398100000001,
          -0.05295690200000001,
          -0.05290877200000001,
          -0.052674117000000006,
          -0.051804613000000006,
          -0.049256254000000006,
          -0.043203167,
          -0.03136939300000001,
          -0.012178869000000002,
          0.013613919000000002,
          0.04191923,
          0.066077637,
          0.079447008,
          0.078409521,
          0.063922654,
          0.04073877399999999,
          0.01500687199999999,
          -0.008175726000000001,
          -0.026059073000000006,
          -0.03818074900000001,
          -0.045511044,
          -0.049506454000000005,
          -0.051484058000000006,
          -0.052378201000000006,
          -0.052749266,
          -0.05289117200000001,
          -0.05294137200000001,
          -0.052957782,
          -0.05296278200000001,
          -0.05296419100000001,
          -0.052964559,
          -0.05296464780000001,
          -0.05296466726000001,
          -0.052964671164000006,
          -0.052964671868,
          -0.052964671981700004,
          -0.05296467199777,
          -0.052964671999765005,
          -0.052964671999978806,
          -0.052964671999998394
         ]
        },
        {
         "line": {
          "color": "rgba(0, 0, 0, 0)",
          "width": 0
         },
         "showlegend": false,
         "type": "scatter",
         "x": [
          0,
          1,
          2,
          3,
          4,
          5,
          6,
          7,
          8,
          9,
          10,
          11,
          12,
          13,
          14,
          15,
          16,
          17,
          18,
          19,
          20,
          21,
          22,
          23,
          24,
          25,
          26,
          27,
          28,
          29,
          30,
          31,
          32,
          33,
          34,
          35,
          36,
          37,
          38,
          39,
          40
         ],
         "y": [
          -0.07944700800000001,
          -0.07944700800000001,
          -0.07944700800000001,
          -0.07944700800000001,
          -0.07944700800000001,
          -0.07944700800000001,
          -0.07944700800000001,
          -0.07944700800000001,
          -0.07944700800000001,
          -0.07944700800000001,
          -0.07944700800000001,
          -0.07944700800000001,
          -0.07944700800000001,
          -0.07944700800000001,
          -0.07944700800000001,
          -0.07944700800000001,
          -0.07944700800000001,
          -0.07944700800000001,
          -0.07944700800000001,
          -0.07944700800000001,
          -0.07944700800000001,
          -0.07944700800000001,
          -0.07944700800000001,
          -0.07944700800000001,
          -0.07944700800000001,
          -0.07944700800000001,
          -0.07944700800000001,
          -0.07944700800000001,
          -0.07944700800000001,
          -0.07944700800000001,
          -0.07944700800000001,
          -0.07944700800000001,
          -0.07944700800000001,
          -0.07944700800000001,
          -0.07944700800000001,
          -0.07944700800000001,
          -0.07944700800000001,
          -0.07944700800000001,
          -0.07944700800000001,
          -0.07944700800000001,
          -0.07944700800000001
         ]
        },
        {
         "fill": "tonexty",
         "fillcolor": "rgb(166.77531210646046, 186.68167417234713, 98.15176476793164)",
         "line": {
          "color": "rgba(0, 0, 0, 0.6)",
          "width": 1.4
         },
         "mode": "lines",
         "name": "7",
         "type": "scatter",
         "x": [
          0,
          1,
          2,
          3,
          4,
          5,
          6,
          7,
          8,
          9,
          10,
          11,
          12,
          13,
          14,
          15,
          16,
          17,
          18,
          19,
          20,
          21,
          22,
          23,
          24,
          25,
          26,
          27,
          28,
          29,
          30,
          31,
          32,
          33,
          34,
          35,
          36,
          37,
          38,
          39,
          40
         ],
         "y": [
          -0.07944700772400001,
          -0.07944699940000001,
          -0.07944687900000001,
          -0.07944575800000002,
          -0.07943828800000001,
          -0.07940000800000001,
          -0.07924360500000001,
          -0.07871995900000002,
          -0.07725656300000001,
          -0.07379764400000001,
          -0.06682095500000002,
          -0.05475121000000001,
          -0.03682751500000001,
          -0.014102881000000012,
          0.010083888999999985,
          0.030739650999999993,
          0.042911329999999984,
          0.04364674099999999,
          0.033147576999999984,
          0.01450869299999999,
          -0.0077027870000000165,
          -0.029172054000000017,
          -0.047029134000000014,
          -0.06016336600000001,
          -0.06883947600000001,
          -0.07403870400000001,
          -0.07688556600000002,
          -0.07831775200000002,
          -0.07898266700000002,
          -0.07926860800000002,
          -0.07938290800000002,
          -0.07942540800000002,
          -0.07944018800000001,
          -0.07944498800000001,
          -0.07944644700000002,
          -0.07944686200000001,
          -0.07944697270000001,
          -0.07944700005000001,
          -0.07944700634000001,
          -0.07944700768000001,
          -0.07944700794320002
         ]
        },
        {
         "line": {
          "color": "rgba(0, 0, 0, 0)",
          "width": 0
         },
         "showlegend": false,
         "type": "scatter",
         "x": [
          0,
          1,
          2,
          3,
          4,
          5,
          6,
          7,
          8,
          9,
          10,
          11,
          12,
          13,
          14,
          15,
          16,
          17,
          18,
          19,
          20,
          21,
          22,
          23,
          24,
          25,
          26,
          27,
          28,
          29,
          30,
          31,
          32,
          33,
          34,
          35,
          36,
          37,
          38,
          39,
          40
         ],
         "y": [
          -0.10592934400000001,
          -0.10592934400000001,
          -0.10592934400000001,
          -0.10592934400000001,
          -0.10592934400000001,
          -0.10592934400000001,
          -0.10592934400000001,
          -0.10592934400000001,
          -0.10592934400000001,
          -0.10592934400000001,
          -0.10592934400000001,
          -0.10592934400000001,
          -0.10592934400000001,
          -0.10592934400000001,
          -0.10592934400000001,
          -0.10592934400000001,
          -0.10592934400000001,
          -0.10592934400000001,
          -0.10592934400000001,
          -0.10592934400000001,
          -0.10592934400000001,
          -0.10592934400000001,
          -0.10592934400000001,
          -0.10592934400000001,
          -0.10592934400000001,
          -0.10592934400000001,
          -0.10592934400000001,
          -0.10592934400000001,
          -0.10592934400000001,
          -0.10592934400000001,
          -0.10592934400000001,
          -0.10592934400000001,
          -0.10592934400000001,
          -0.10592934400000001,
          -0.10592934400000001,
          -0.10592934400000001,
          -0.10592934400000001,
          -0.10592934400000001,
          -0.10592934400000001,
          -0.10592934400000001,
          -0.10592934400000001
         ]
        },
        {
         "fill": "tonexty",
         "fillcolor": "rgb(196.9632390799507, 196.44070228877717, 81.23611603278624)",
         "line": {
          "color": "rgba(0, 0, 0, 0.6)",
          "width": 1.4
         },
         "mode": "lines",
         "name": "0",
         "type": "scatter",
         "x": [
          0,
          1,
          2,
          3,
          4,
          5,
          6,
          7,
          8,
          9,
          10,
          11,
          12,
          13,
          14,
          15,
          16,
          17,
          18,
          19,
          20,
          21,
          22,
          23,
          24,
          25,
          26,
          27,
          28,
          29,
          30,
          31,
          32,
          33,
          34,
          35,
          36,
          37,
          38,
          39,
          40
         ],
         "y": [
          -0.1059293439828,
          -0.10592934334800001,
          -0.10592933210000001,
          -0.10592920600000001,
          -0.10592818400000001,
          -0.10592187400000001,
          -0.10589094400000001,
          -0.105766758,
          -0.10535197900000001,
          -0.104181567,
          -0.10136334500000001,
          -0.09553191800000001,
          -0.085121155,
          -0.06907600500000001,
          -0.04782114000000001,
          -0.02393890300000001,
          -0.001928919000000015,
          0.013145927999999987,
          0.017585723999999997,
          0.010533860999999992,
          -0.005797274000000005,
          -0.027202023000000006,
          -0.04917217100000001,
          -0.06831356800000002,
          -0.082955684,
          -0.09296913700000001,
          -0.09916095300000001,
          -0.10265002000000001,
          -0.10445225600000001,
          -0.105309602,
          -0.10568667600000001,
          -0.10584054400000001,
          -0.10589894400000001,
          -0.10591956400000001,
          -0.10592639400000001,
          -0.10592851,
          -0.10592912300000001,
          -0.10592928900000001,
          -0.1059293312,
          -0.10592934123000002,
          -0.105929343443
         ]
        }
       ],
       "layout": {
        "autosize": false,
        "height": 400,
        "hovermode": false,
        "legend": {
         "traceorder": "normal"
        },
        "showlegend": false,
        "template": {
         "data": {
          "bar": [
           {
            "error_x": {
             "color": "#2a3f5f"
            },
            "error_y": {
             "color": "#2a3f5f"
            },
            "marker": {
             "line": {
              "color": "white",
              "width": 0.5
             },
             "pattern": {
              "fillmode": "overlay",
              "size": 10,
              "solidity": 0.2
             }
            },
            "type": "bar"
           }
          ],
          "barpolar": [
           {
            "marker": {
             "line": {
              "color": "white",
              "width": 0.5
             },
             "pattern": {
              "fillmode": "overlay",
              "size": 10,
              "solidity": 0.2
             }
            },
            "type": "barpolar"
           }
          ],
          "carpet": [
           {
            "aaxis": {
             "endlinecolor": "#2a3f5f",
             "gridcolor": "#C8D4E3",
             "linecolor": "#C8D4E3",
             "minorgridcolor": "#C8D4E3",
             "startlinecolor": "#2a3f5f"
            },
            "baxis": {
             "endlinecolor": "#2a3f5f",
             "gridcolor": "#C8D4E3",
             "linecolor": "#C8D4E3",
             "minorgridcolor": "#C8D4E3",
             "startlinecolor": "#2a3f5f"
            },
            "type": "carpet"
           }
          ],
          "choropleth": [
           {
            "colorbar": {
             "outlinewidth": 0,
             "ticks": ""
            },
            "type": "choropleth"
           }
          ],
          "contour": [
           {
            "colorbar": {
             "outlinewidth": 0,
             "ticks": ""
            },
            "colorscale": [
             [
              0,
              "#0d0887"
             ],
             [
              0.1111111111111111,
              "#46039f"
             ],
             [
              0.2222222222222222,
              "#7201a8"
             ],
             [
              0.3333333333333333,
              "#9c179e"
             ],
             [
              0.4444444444444444,
              "#bd3786"
             ],
             [
              0.5555555555555556,
              "#d8576b"
             ],
             [
              0.6666666666666666,
              "#ed7953"
             ],
             [
              0.7777777777777778,
              "#fb9f3a"
             ],
             [
              0.8888888888888888,
              "#fdca26"
             ],
             [
              1,
              "#f0f921"
             ]
            ],
            "type": "contour"
           }
          ],
          "contourcarpet": [
           {
            "colorbar": {
             "outlinewidth": 0,
             "ticks": ""
            },
            "type": "contourcarpet"
           }
          ],
          "heatmap": [
           {
            "colorbar": {
             "outlinewidth": 0,
             "ticks": ""
            },
            "colorscale": [
             [
              0,
              "#0d0887"
             ],
             [
              0.1111111111111111,
              "#46039f"
             ],
             [
              0.2222222222222222,
              "#7201a8"
             ],
             [
              0.3333333333333333,
              "#9c179e"
             ],
             [
              0.4444444444444444,
              "#bd3786"
             ],
             [
              0.5555555555555556,
              "#d8576b"
             ],
             [
              0.6666666666666666,
              "#ed7953"
             ],
             [
              0.7777777777777778,
              "#fb9f3a"
             ],
             [
              0.8888888888888888,
              "#fdca26"
             ],
             [
              1,
              "#f0f921"
             ]
            ],
            "type": "heatmap"
           }
          ],
          "heatmapgl": [
           {
            "colorbar": {
             "outlinewidth": 0,
             "ticks": ""
            },
            "colorscale": [
             [
              0,
              "#0d0887"
             ],
             [
              0.1111111111111111,
              "#46039f"
             ],
             [
              0.2222222222222222,
              "#7201a8"
             ],
             [
              0.3333333333333333,
              "#9c179e"
             ],
             [
              0.4444444444444444,
              "#bd3786"
             ],
             [
              0.5555555555555556,
              "#d8576b"
             ],
             [
              0.6666666666666666,
              "#ed7953"
             ],
             [
              0.7777777777777778,
              "#fb9f3a"
             ],
             [
              0.8888888888888888,
              "#fdca26"
             ],
             [
              1,
              "#f0f921"
             ]
            ],
            "type": "heatmapgl"
           }
          ],
          "histogram": [
           {
            "marker": {
             "pattern": {
              "fillmode": "overlay",
              "size": 10,
              "solidity": 0.2
             }
            },
            "type": "histogram"
           }
          ],
          "histogram2d": [
           {
            "colorbar": {
             "outlinewidth": 0,
             "ticks": ""
            },
            "colorscale": [
             [
              0,
              "#0d0887"
             ],
             [
              0.1111111111111111,
              "#46039f"
             ],
             [
              0.2222222222222222,
              "#7201a8"
             ],
             [
              0.3333333333333333,
              "#9c179e"
             ],
             [
              0.4444444444444444,
              "#bd3786"
             ],
             [
              0.5555555555555556,
              "#d8576b"
             ],
             [
              0.6666666666666666,
              "#ed7953"
             ],
             [
              0.7777777777777778,
              "#fb9f3a"
             ],
             [
              0.8888888888888888,
              "#fdca26"
             ],
             [
              1,
              "#f0f921"
             ]
            ],
            "type": "histogram2d"
           }
          ],
          "histogram2dcontour": [
           {
            "colorbar": {
             "outlinewidth": 0,
             "ticks": ""
            },
            "colorscale": [
             [
              0,
              "#0d0887"
             ],
             [
              0.1111111111111111,
              "#46039f"
             ],
             [
              0.2222222222222222,
              "#7201a8"
             ],
             [
              0.3333333333333333,
              "#9c179e"
             ],
             [
              0.4444444444444444,
              "#bd3786"
             ],
             [
              0.5555555555555556,
              "#d8576b"
             ],
             [
              0.6666666666666666,
              "#ed7953"
             ],
             [
              0.7777777777777778,
              "#fb9f3a"
             ],
             [
              0.8888888888888888,
              "#fdca26"
             ],
             [
              1,
              "#f0f921"
             ]
            ],
            "type": "histogram2dcontour"
           }
          ],
          "mesh3d": [
           {
            "colorbar": {
             "outlinewidth": 0,
             "ticks": ""
            },
            "type": "mesh3d"
           }
          ],
          "parcoords": [
           {
            "line": {
             "colorbar": {
              "outlinewidth": 0,
              "ticks": ""
             }
            },
            "type": "parcoords"
           }
          ],
          "pie": [
           {
            "automargin": true,
            "type": "pie"
           }
          ],
          "scatter": [
           {
            "marker": {
             "colorbar": {
              "outlinewidth": 0,
              "ticks": ""
             }
            },
            "type": "scatter"
           }
          ],
          "scatter3d": [
           {
            "line": {
             "colorbar": {
              "outlinewidth": 0,
              "ticks": ""
             }
            },
            "marker": {
             "colorbar": {
              "outlinewidth": 0,
              "ticks": ""
             }
            },
            "type": "scatter3d"
           }
          ],
          "scattercarpet": [
           {
            "marker": {
             "colorbar": {
              "outlinewidth": 0,
              "ticks": ""
             }
            },
            "type": "scattercarpet"
           }
          ],
          "scattergeo": [
           {
            "marker": {
             "colorbar": {
              "outlinewidth": 0,
              "ticks": ""
             }
            },
            "type": "scattergeo"
           }
          ],
          "scattergl": [
           {
            "marker": {
             "colorbar": {
              "outlinewidth": 0,
              "ticks": ""
             }
            },
            "type": "scattergl"
           }
          ],
          "scattermapbox": [
           {
            "marker": {
             "colorbar": {
              "outlinewidth": 0,
              "ticks": ""
             }
            },
            "type": "scattermapbox"
           }
          ],
          "scatterpolar": [
           {
            "marker": {
             "colorbar": {
              "outlinewidth": 0,
              "ticks": ""
             }
            },
            "type": "scatterpolar"
           }
          ],
          "scatterpolargl": [
           {
            "marker": {
             "colorbar": {
              "outlinewidth": 0,
              "ticks": ""
             }
            },
            "type": "scatterpolargl"
           }
          ],
          "scatterternary": [
           {
            "marker": {
             "colorbar": {
              "outlinewidth": 0,
              "ticks": ""
             }
            },
            "type": "scatterternary"
           }
          ],
          "surface": [
           {
            "colorbar": {
             "outlinewidth": 0,
             "ticks": ""
            },
            "colorscale": [
             [
              0,
              "#0d0887"
             ],
             [
              0.1111111111111111,
              "#46039f"
             ],
             [
              0.2222222222222222,
              "#7201a8"
             ],
             [
              0.3333333333333333,
              "#9c179e"
             ],
             [
              0.4444444444444444,
              "#bd3786"
             ],
             [
              0.5555555555555556,
              "#d8576b"
             ],
             [
              0.6666666666666666,
              "#ed7953"
             ],
             [
              0.7777777777777778,
              "#fb9f3a"
             ],
             [
              0.8888888888888888,
              "#fdca26"
             ],
             [
              1,
              "#f0f921"
             ]
            ],
            "type": "surface"
           }
          ],
          "table": [
           {
            "cells": {
             "fill": {
              "color": "#EBF0F8"
             },
             "line": {
              "color": "white"
             }
            },
            "header": {
             "fill": {
              "color": "#C8D4E3"
             },
             "line": {
              "color": "white"
             }
            },
            "type": "table"
           }
          ]
         },
         "layout": {
          "annotationdefaults": {
           "arrowcolor": "#2a3f5f",
           "arrowhead": 0,
           "arrowwidth": 1
          },
          "autotypenumbers": "strict",
          "coloraxis": {
           "colorbar": {
            "outlinewidth": 0,
            "ticks": ""
           }
          },
          "colorscale": {
           "diverging": [
            [
             0,
             "#8e0152"
            ],
            [
             0.1,
             "#c51b7d"
            ],
            [
             0.2,
             "#de77ae"
            ],
            [
             0.3,
             "#f1b6da"
            ],
            [
             0.4,
             "#fde0ef"
            ],
            [
             0.5,
             "#f7f7f7"
            ],
            [
             0.6,
             "#e6f5d0"
            ],
            [
             0.7,
             "#b8e186"
            ],
            [
             0.8,
             "#7fbc41"
            ],
            [
             0.9,
             "#4d9221"
            ],
            [
             1,
             "#276419"
            ]
           ],
           "sequential": [
            [
             0,
             "#0d0887"
            ],
            [
             0.1111111111111111,
             "#46039f"
            ],
            [
             0.2222222222222222,
             "#7201a8"
            ],
            [
             0.3333333333333333,
             "#9c179e"
            ],
            [
             0.4444444444444444,
             "#bd3786"
            ],
            [
             0.5555555555555556,
             "#d8576b"
            ],
            [
             0.6666666666666666,
             "#ed7953"
            ],
            [
             0.7777777777777778,
             "#fb9f3a"
            ],
            [
             0.8888888888888888,
             "#fdca26"
            ],
            [
             1,
             "#f0f921"
            ]
           ],
           "sequentialminus": [
            [
             0,
             "#0d0887"
            ],
            [
             0.1111111111111111,
             "#46039f"
            ],
            [
             0.2222222222222222,
             "#7201a8"
            ],
            [
             0.3333333333333333,
             "#9c179e"
            ],
            [
             0.4444444444444444,
             "#bd3786"
            ],
            [
             0.5555555555555556,
             "#d8576b"
            ],
            [
             0.6666666666666666,
             "#ed7953"
            ],
            [
             0.7777777777777778,
             "#fb9f3a"
            ],
            [
             0.8888888888888888,
             "#fdca26"
            ],
            [
             1,
             "#f0f921"
            ]
           ]
          },
          "colorway": [
           "#636efa",
           "#EF553B",
           "#00cc96",
           "#ab63fa",
           "#FFA15A",
           "#19d3f3",
           "#FF6692",
           "#B6E880",
           "#FF97FF",
           "#FECB52"
          ],
          "font": {
           "color": "#2a3f5f"
          },
          "geo": {
           "bgcolor": "white",
           "lakecolor": "white",
           "landcolor": "white",
           "showlakes": true,
           "showland": true,
           "subunitcolor": "#C8D4E3"
          },
          "hoverlabel": {
           "align": "left"
          },
          "hovermode": "closest",
          "mapbox": {
           "style": "light"
          },
          "paper_bgcolor": "white",
          "plot_bgcolor": "white",
          "polar": {
           "angularaxis": {
            "gridcolor": "#EBF0F8",
            "linecolor": "#EBF0F8",
            "ticks": ""
           },
           "bgcolor": "white",
           "radialaxis": {
            "gridcolor": "#EBF0F8",
            "linecolor": "#EBF0F8",
            "ticks": ""
           }
          },
          "scene": {
           "xaxis": {
            "backgroundcolor": "white",
            "gridcolor": "#DFE8F3",
            "gridwidth": 2,
            "linecolor": "#EBF0F8",
            "showbackground": true,
            "ticks": "",
            "zerolinecolor": "#EBF0F8"
           },
           "yaxis": {
            "backgroundcolor": "white",
            "gridcolor": "#DFE8F3",
            "gridwidth": 2,
            "linecolor": "#EBF0F8",
            "showbackground": true,
            "ticks": "",
            "zerolinecolor": "#EBF0F8"
           },
           "zaxis": {
            "backgroundcolor": "white",
            "gridcolor": "#DFE8F3",
            "gridwidth": 2,
            "linecolor": "#EBF0F8",
            "showbackground": true,
            "ticks": "",
            "zerolinecolor": "#EBF0F8"
           }
          },
          "shapedefaults": {
           "line": {
            "color": "#2a3f5f"
           }
          },
          "ternary": {
           "aaxis": {
            "gridcolor": "#DFE8F3",
            "linecolor": "#A2B1C6",
            "ticks": ""
           },
           "baxis": {
            "gridcolor": "#DFE8F3",
            "linecolor": "#A2B1C6",
            "ticks": ""
           },
           "bgcolor": "white",
           "caxis": {
            "gridcolor": "#DFE8F3",
            "linecolor": "#A2B1C6",
            "ticks": ""
           }
          },
          "title": {
           "x": 0.05
          },
          "xaxis": {
           "automargin": true,
           "gridcolor": "#EBF0F8",
           "linecolor": "#EBF0F8",
           "ticks": "",
           "title": {
            "standoff": 15
           },
           "zerolinecolor": "#EBF0F8",
           "zerolinewidth": 2
          },
          "yaxis": {
           "automargin": true,
           "gridcolor": "#EBF0F8",
           "linecolor": "#EBF0F8",
           "ticks": "",
           "title": {
            "standoff": 15
           },
           "zerolinecolor": "#EBF0F8",
           "zerolinewidth": 2
          }
         }
        },
        "width": 800,
        "xaxis": {
         "range": [
          -2,
          42
         ],
         "showgrid": true,
         "showticklabels": true,
         "title": {
          "text": "Inpatient bed demand"
         },
         "type": "linear",
         "zeroline": false
        },
        "yaxis": {
         "autorange": true,
         "range": [
          -0.1176729618888889,
          0.11719939588888889
         ],
         "showgrid": true,
         "showticklabels": true,
         "ticktext": [
          "28",
          "21",
          "14",
          "7",
          "0"
         ],
         "tickvals": [
          0,
          -0.026482336000000002,
          -0.052964672000000004,
          -0.07944700800000001,
          -0.10592934400000001
         ],
         "title": {
          "text": "Predictions from days past<br>(i.e. up to 28 days ago)"
         },
         "type": "linear",
         "zeroline": false
        }
       }
      },
      "image/png": "[encoded data removed]",
      "text/html": [
       "<div>                            <div id=\"6ecaaa57-6fe5-4b39-b214-0bc48200dd48\" class=\"plotly-graph-div\" style=\"height:400px; width:800px;\"></div>            <script type=\"text/javascript\">                require([\"plotly\"], function(Plotly) {                    window.PLOTLYENV=window.PLOTLYENV || {};                                    if (document.getElementById(\"6ecaaa57-6fe5-4b39-b214-0bc48200dd48\")) {                    Plotly.newPlot(                        \"6ecaaa57-6fe5-4b39-b214-0bc48200dd48\",                        [{\"line\":{\"color\":\"rgba(0,0,0,0)\",\"width\":0},\"showlegend\":false,\"type\":\"scatter\",\"x\":[0.0,1.0,2.0,3.0,4.0,5.0,6.0,7.0,8.0,9.0,10.0,11.0,12.0,13.0,14.0,15.0,16.0,17.0,18.0,19.0,20.0,21.0,22.0,23.0,24.0,25.0,26.0,27.0,28.0,29.0,30.0,31.0,32.0,33.0,34.0,35.0,36.0,37.0,38.0,39.0,40.0],\"y\":[0.0,0.0,0.0,0.0,0.0,0.0,0.0,0.0,0.0,0.0,0.0,0.0,0.0,0.0,0.0,0.0,0.0,0.0,0.0,0.0,0.0,0.0,0.0,0.0,0.0,0.0,0.0,0.0,0.0,0.0,0.0,0.0,0.0,0.0,0.0,0.0,0.0,0.0,0.0,0.0,0.0]},{\"fill\":\"tonexty\",\"fillcolor\":\"rgb(242.0, 188.28622062564224, 56.0)\",\"line\":{\"color\":\"rgba(0,0,0,0.6)\",\"width\":1.4},\"mode\":\"lines\",\"name\":\"28\",\"type\":\"scatter\",\"x\":[0.0,1.0,2.0,3.0,4.0,5.0,6.0,7.0,8.0,9.0,10.0,11.0,12.0,13.0,14.0,15.0,16.0,17.0,18.0,19.0,20.0,21.0,22.0,23.0,24.0,25.0,26.0,27.0,28.0,29.0,30.0,31.0,32.0,33.0,34.0,35.0,36.0,37.0,38.0,39.0,40.0],\"y\":[5.41e-14,2.31e-12,4.82e-11,6.53e-10,6.48e-09,5.02e-08,3.16e-07,1.66e-06,7.45e-06,2.9e-05,9.88e-05,0.000298533,0.000805618,0.001954917,0.004290407,0.00855845,0.015584368,0.026002813,0.039887527,0.056419489,0.073782337,0.089423108,0.100662507,0.105455778,0.103003204,0.093959474,0.08017124,0.064079251,0.048042941,0.03383083,0.022402356,0.013966029,0.008205915,0.004548951,0.00238156,0.001178678,0.000551964,0.000244785,0.00010289,4.1e-05,1.55e-05]},{\"line\":{\"color\":\"rgba(0,0,0,0)\",\"width\":0},\"showlegend\":false,\"type\":\"scatter\",\"x\":[0.0,1.0,2.0,3.0,4.0,5.0,6.0,7.0,8.0,9.0,10.0,11.0,12.0,13.0,14.0,15.0,16.0,17.0,18.0,19.0,20.0,21.0,22.0,23.0,24.0,25.0,26.0,27.0,28.0,29.0,30.0,31.0,32.0,33.0,34.0,35.0,36.0,37.0,38.0,39.0,40.0],\"y\":[-0.026482336000000002,-0.026482336000000002,-0.026482336000000002,-0.026482336000000002,-0.026482336000000002,-0.026482336000000002,-0.026482336000000002,-0.026482336000000002,-0.026482336000000002,-0.026482336000000002,-0.026482336000000002,-0.026482336000000002,-0.026482336000000002,-0.026482336000000002,-0.026482336000000002,-0.026482336000000002,-0.026482336000000002,-0.026482336000000002,-0.026482336000000002,-0.026482336000000002,-0.026482336000000002,-0.026482336000000002,-0.026482336000000002,-0.026482336000000002,-0.026482336000000002,-0.026482336000000002,-0.026482336000000002,-0.026482336000000002,-0.026482336000000002,-0.026482336000000002,-0.026482336000000002,-0.026482336000000002,-0.026482336000000002,-0.026482336000000002,-0.026482336000000002,-0.026482336000000002,-0.026482336000000002,-0.026482336000000002,-0.026482336000000002,-0.026482336000000002,-0.026482336000000002]},{\"fill\":\"tonexty\",\"fillcolor\":\"rgb(234.05312631069467, 208.43096755733663, 60.45298956728317)\",\"line\":{\"color\":\"rgba(0,0,0,0.6)\",\"width\":1.4},\"mode\":\"lines\",\"name\":\"21\",\"type\":\"scatter\",\"x\":[0.0,1.0,2.0,3.0,4.0,5.0,6.0,7.0,8.0,9.0,10.0,11.0,12.0,13.0,14.0,15.0,16.0,17.0,18.0,19.0,20.0,21.0,22.0,23.0,24.0,25.0,26.0,27.0,28.0,29.0,30.0,31.0,32.0,33.0,34.0,35.0,36.0,37.0,38.0,39.0,40.0],\"y\":[-0.0264823359879,-0.026482335589,-0.026482329180000003,-0.0264822626,-0.026481759,-0.026478806,-0.026464836000000002,-0.026410136,-0.026228322000000002,-0.025710484000000002,-0.024430402000000004,-0.021662311000000004,-0.016395848000000005,-0.007549658000000001,0.005580323999999998,0.022754185999999996,0.042379835,0.061573411,0.076819989,0.08504341099999999,0.08462967999999998,0.07593356100000001,0.061056723,0.043051156,0.024946481,0.009002643999999997,-0.003601926000000002,-0.012672875000000002,-0.018668615000000003,-0.022331383000000003,-0.024409068000000003,-0.025507439000000003,-0.026050216,-0.026301577000000003,-0.026410936000000003,-0.026455636,-0.026472896000000003,-0.026479176000000004,-0.026481336,-0.026482035,-0.026482250300000003]},{\"line\":{\"color\":\"rgba(0,0,0,0)\",\"width\":0},\"showlegend\":false,\"type\":\"scatter\",\"x\":[0.0,1.0,2.0,3.0,4.0,5.0,6.0,7.0,8.0,9.0,10.0,11.0,12.0,13.0,14.0,15.0,16.0,17.0,18.0,19.0,20.0,21.0,22.0,23.0,24.0,25.0,26.0,27.0,28.0,29.0,30.0,31.0,32.0,33.0,34.0,35.0,36.0,37.0,38.0,39.0,40.0],\"y\":[-0.052964672000000004,-0.052964672000000004,-0.052964672000000004,-0.052964672000000004,-0.052964672000000004,-0.052964672000000004,-0.052964672000000004,-0.052964672000000004,-0.052964672000000004,-0.052964672000000004,-0.052964672000000004,-0.052964672000000004,-0.052964672000000004,-0.052964672000000004,-0.052964672000000004,-0.052964672000000004,-0.052964672000000004,-0.052964672000000004,-0.052964672000000004,-0.052964672000000004,-0.052964672000000004,-0.052964672000000004,-0.052964672000000004,-0.052964672000000004,-0.052964672000000004,-0.052964672000000004,-0.052964672000000004,-0.052964672000000004,-0.052964672000000004,-0.052964672000000004,-0.052964672000000004,-0.052964672000000004,-0.052964672000000004,-0.052964672000000004,-0.052964672000000004,-0.052964672000000004,-0.052964672000000004,-0.052964672000000004,-0.052964672000000004,-0.052964672000000004,-0.052964672000000004]},{\"fill\":\"tonexty\",\"fillcolor\":\"rgb(94.59396565744564, 163.3471871737432, 138.59820889884512)\",\"line\":{\"color\":\"rgba(0,0,0,0.6)\",\"width\":1.4},\"mode\":\"lines\",\"name\":\"14\",\"type\":\"scatter\",\"x\":[0.0,1.0,2.0,3.0,4.0,5.0,6.0,7.0,8.0,9.0,10.0,11.0,12.0,13.0,14.0,15.0,16.0,17.0,18.0,19.0,20.0,21.0,22.0,23.0,24.0,25.0,26.0,27.0,28.0,29.0,30.0,31.0,32.0,33.0,34.0,35.0,36.0,37.0,38.0,39.0,40.0],\"y\":[-0.052964642400000005,-0.05296398100000001,-0.05295690200000001,-0.05290877200000001,-0.052674117000000006,-0.051804613000000006,-0.049256254000000006,-0.043203167,-0.03136939300000001,-0.012178869000000002,0.013613919000000002,0.04191923,0.066077637,0.079447008,0.078409521,0.063922654,0.04073877399999999,0.01500687199999999,-0.008175726000000001,-0.026059073000000006,-0.03818074900000001,-0.045511044,-0.049506454000000005,-0.051484058000000006,-0.052378201000000006,-0.052749266,-0.05289117200000001,-0.05294137200000001,-0.052957782,-0.05296278200000001,-0.05296419100000001,-0.052964559,-0.05296464780000001,-0.05296466726000001,-0.052964671164000006,-0.052964671868,-0.052964671981700004,-0.05296467199777,-0.052964671999765005,-0.052964671999978806,-0.052964671999998394]},{\"line\":{\"color\":\"rgba(0,0,0,0)\",\"width\":0},\"showlegend\":false,\"type\":\"scatter\",\"x\":[0.0,1.0,2.0,3.0,4.0,5.0,6.0,7.0,8.0,9.0,10.0,11.0,12.0,13.0,14.0,15.0,16.0,17.0,18.0,19.0,20.0,21.0,22.0,23.0,24.0,25.0,26.0,27.0,28.0,29.0,30.0,31.0,32.0,33.0,34.0,35.0,36.0,37.0,38.0,39.0,40.0],\"y\":[-0.07944700800000001,-0.07944700800000001,-0.07944700800000001,-0.07944700800000001,-0.07944700800000001,-0.07944700800000001,-0.07944700800000001,-0.07944700800000001,-0.07944700800000001,-0.07944700800000001,-0.07944700800000001,-0.07944700800000001,-0.07944700800000001,-0.07944700800000001,-0.07944700800000001,-0.07944700800000001,-0.07944700800000001,-0.07944700800000001,-0.07944700800000001,-0.07944700800000001,-0.07944700800000001,-0.07944700800000001,-0.07944700800000001,-0.07944700800000001,-0.07944700800000001,-0.07944700800000001,-0.07944700800000001,-0.07944700800000001,-0.07944700800000001,-0.07944700800000001,-0.07944700800000001,-0.07944700800000001,-0.07944700800000001,-0.07944700800000001,-0.07944700800000001,-0.07944700800000001,-0.07944700800000001,-0.07944700800000001,-0.07944700800000001,-0.07944700800000001,-0.07944700800000001]},{\"fill\":\"tonexty\",\"fillcolor\":\"rgb(166.77531210646046, 186.68167417234713, 98.15176476793164)\",\"line\":{\"color\":\"rgba(0,0,0,0.6)\",\"width\":1.4},\"mode\":\"lines\",\"name\":\"7\",\"type\":\"scatter\",\"x\":[0.0,1.0,2.0,3.0,4.0,5.0,6.0,7.0,8.0,9.0,10.0,11.0,12.0,13.0,14.0,15.0,16.0,17.0,18.0,19.0,20.0,21.0,22.0,23.0,24.0,25.0,26.0,27.0,28.0,29.0,30.0,31.0,32.0,33.0,34.0,35.0,36.0,37.0,38.0,39.0,40.0],\"y\":[-0.07944700772400001,-0.07944699940000001,-0.07944687900000001,-0.07944575800000002,-0.07943828800000001,-0.07940000800000001,-0.07924360500000001,-0.07871995900000002,-0.07725656300000001,-0.07379764400000001,-0.06682095500000002,-0.05475121000000001,-0.03682751500000001,-0.014102881000000012,0.010083888999999985,0.030739650999999993,0.042911329999999984,0.04364674099999999,0.033147576999999984,0.01450869299999999,-0.0077027870000000165,-0.029172054000000017,-0.047029134000000014,-0.06016336600000001,-0.06883947600000001,-0.07403870400000001,-0.07688556600000002,-0.07831775200000002,-0.07898266700000002,-0.07926860800000002,-0.07938290800000002,-0.07942540800000002,-0.07944018800000001,-0.07944498800000001,-0.07944644700000002,-0.07944686200000001,-0.07944697270000001,-0.07944700005000001,-0.07944700634000001,-0.07944700768000001,-0.07944700794320002]},{\"line\":{\"color\":\"rgba(0,0,0,0)\",\"width\":0},\"showlegend\":false,\"type\":\"scatter\",\"x\":[0.0,1.0,2.0,3.0,4.0,5.0,6.0,7.0,8.0,9.0,10.0,11.0,12.0,13.0,14.0,15.0,16.0,17.0,18.0,19.0,20.0,21.0,22.0,23.0,24.0,25.0,26.0,27.0,28.0,29.0,30.0,31.0,32.0,33.0,34.0,35.0,36.0,37.0,38.0,39.0,40.0],\"y\":[-0.10592934400000001,-0.10592934400000001,-0.10592934400000001,-0.10592934400000001,-0.10592934400000001,-0.10592934400000001,-0.10592934400000001,-0.10592934400000001,-0.10592934400000001,-0.10592934400000001,-0.10592934400000001,-0.10592934400000001,-0.10592934400000001,-0.10592934400000001,-0.10592934400000001,-0.10592934400000001,-0.10592934400000001,-0.10592934400000001,-0.10592934400000001,-0.10592934400000001,-0.10592934400000001,-0.10592934400000001,-0.10592934400000001,-0.10592934400000001,-0.10592934400000001,-0.10592934400000001,-0.10592934400000001,-0.10592934400000001,-0.10592934400000001,-0.10592934400000001,-0.10592934400000001,-0.10592934400000001,-0.10592934400000001,-0.10592934400000001,-0.10592934400000001,-0.10592934400000001,-0.10592934400000001,-0.10592934400000001,-0.10592934400000001,-0.10592934400000001,-0.10592934400000001]},{\"fill\":\"tonexty\",\"fillcolor\":\"rgb(196.9632390799507, 196.44070228877717, 81.23611603278624)\",\"line\":{\"color\":\"rgba(0,0,0,0.6)\",\"width\":1.4},\"mode\":\"lines\",\"name\":\"0\",\"type\":\"scatter\",\"x\":[0.0,1.0,2.0,3.0,4.0,5.0,6.0,7.0,8.0,9.0,10.0,11.0,12.0,13.0,14.0,15.0,16.0,17.0,18.0,19.0,20.0,21.0,22.0,23.0,24.0,25.0,26.0,27.0,28.0,29.0,30.0,31.0,32.0,33.0,34.0,35.0,36.0,37.0,38.0,39.0,40.0],\"y\":[-0.1059293439828,-0.10592934334800001,-0.10592933210000001,-0.10592920600000001,-0.10592818400000001,-0.10592187400000001,-0.10589094400000001,-0.105766758,-0.10535197900000001,-0.104181567,-0.10136334500000001,-0.09553191800000001,-0.085121155,-0.06907600500000001,-0.04782114000000001,-0.02393890300000001,-0.001928919000000015,0.013145927999999987,0.017585723999999997,0.010533860999999992,-0.005797274000000005,-0.027202023000000006,-0.04917217100000001,-0.06831356800000002,-0.082955684,-0.09296913700000001,-0.09916095300000001,-0.10265002000000001,-0.10445225600000001,-0.105309602,-0.10568667600000001,-0.10584054400000001,-0.10589894400000001,-0.10591956400000001,-0.10592639400000001,-0.10592851,-0.10592912300000001,-0.10592928900000001,-0.1059293312,-0.10592934123000002,-0.105929343443]}],                        {\"autosize\":false,\"height\":400,\"hovermode\":false,\"legend\":{\"traceorder\":\"normal\"},\"showlegend\":false,\"template\":{\"data\":{\"bar\":[{\"error_x\":{\"color\":\"#2a3f5f\"},\"error_y\":{\"color\":\"#2a3f5f\"},\"marker\":{\"line\":{\"color\":\"white\",\"width\":0.5},\"pattern\":{\"fillmode\":\"overlay\",\"size\":10,\"solidity\":0.2}},\"type\":\"bar\"}],\"barpolar\":[{\"marker\":{\"line\":{\"color\":\"white\",\"width\":0.5},\"pattern\":{\"fillmode\":\"overlay\",\"size\":10,\"solidity\":0.2}},\"type\":\"barpolar\"}],\"carpet\":[{\"aaxis\":{\"endlinecolor\":\"#2a3f5f\",\"gridcolor\":\"#C8D4E3\",\"linecolor\":\"#C8D4E3\",\"minorgridcolor\":\"#C8D4E3\",\"startlinecolor\":\"#2a3f5f\"},\"baxis\":{\"endlinecolor\":\"#2a3f5f\",\"gridcolor\":\"#C8D4E3\",\"linecolor\":\"#C8D4E3\",\"minorgridcolor\":\"#C8D4E3\",\"startlinecolor\":\"#2a3f5f\"},\"type\":\"carpet\"}],\"choropleth\":[{\"colorbar\":{\"outlinewidth\":0,\"ticks\":\"\"},\"type\":\"choropleth\"}],\"contour\":[{\"colorbar\":{\"outlinewidth\":0,\"ticks\":\"\"},\"colorscale\":[[0.0,\"#0d0887\"],[0.1111111111111111,\"#46039f\"],[0.2222222222222222,\"#7201a8\"],[0.3333333333333333,\"#9c179e\"],[0.4444444444444444,\"#bd3786\"],[0.5555555555555556,\"#d8576b\"],[0.6666666666666666,\"#ed7953\"],[0.7777777777777778,\"#fb9f3a\"],[0.8888888888888888,\"#fdca26\"],[1.0,\"#f0f921\"]],\"type\":\"contour\"}],\"contourcarpet\":[{\"colorbar\":{\"outlinewidth\":0,\"ticks\":\"\"},\"type\":\"contourcarpet\"}],\"heatmap\":[{\"colorbar\":{\"outlinewidth\":0,\"ticks\":\"\"},\"colorscale\":[[0.0,\"#0d0887\"],[0.1111111111111111,\"#46039f\"],[0.2222222222222222,\"#7201a8\"],[0.3333333333333333,\"#9c179e\"],[0.4444444444444444,\"#bd3786\"],[0.5555555555555556,\"#d8576b\"],[0.6666666666666666,\"#ed7953\"],[0.7777777777777778,\"#fb9f3a\"],[0.8888888888888888,\"#fdca26\"],[1.0,\"#f0f921\"]],\"type\":\"heatmap\"}],\"heatmapgl\":[{\"colorbar\":{\"outlinewidth\":0,\"ticks\":\"\"},\"colorscale\":[[0.0,\"#0d0887\"],[0.1111111111111111,\"#46039f\"],[0.2222222222222222,\"#7201a8\"],[0.3333333333333333,\"#9c179e\"],[0.4444444444444444,\"#bd3786\"],[0.5555555555555556,\"#d8576b\"],[0.6666666666666666,\"#ed7953\"],[0.7777777777777778,\"#fb9f3a\"],[0.8888888888888888,\"#fdca26\"],[1.0,\"#f0f921\"]],\"type\":\"heatmapgl\"}],\"histogram\":[{\"marker\":{\"pattern\":{\"fillmode\":\"overlay\",\"size\":10,\"solidity\":0.2}},\"type\":\"histogram\"}],\"histogram2d\":[{\"colorbar\":{\"outlinewidth\":0,\"ticks\":\"\"},\"colorscale\":[[0.0,\"#0d0887\"],[0.1111111111111111,\"#46039f\"],[0.2222222222222222,\"#7201a8\"],[0.3333333333333333,\"#9c179e\"],[0.4444444444444444,\"#bd3786\"],[0.5555555555555556,\"#d8576b\"],[0.6666666666666666,\"#ed7953\"],[0.7777777777777778,\"#fb9f3a\"],[0.8888888888888888,\"#fdca26\"],[1.0,\"#f0f921\"]],\"type\":\"histogram2d\"}],\"histogram2dcontour\":[{\"colorbar\":{\"outlinewidth\":0,\"ticks\":\"\"},\"colorscale\":[[0.0,\"#0d0887\"],[0.1111111111111111,\"#46039f\"],[0.2222222222222222,\"#7201a8\"],[0.3333333333333333,\"#9c179e\"],[0.4444444444444444,\"#bd3786\"],[0.5555555555555556,\"#d8576b\"],[0.6666666666666666,\"#ed7953\"],[0.7777777777777778,\"#fb9f3a\"],[0.8888888888888888,\"#fdca26\"],[1.0,\"#f0f921\"]],\"type\":\"histogram2dcontour\"}],\"mesh3d\":[{\"colorbar\":{\"outlinewidth\":0,\"ticks\":\"\"},\"type\":\"mesh3d\"}],\"parcoords\":[{\"line\":{\"colorbar\":{\"outlinewidth\":0,\"ticks\":\"\"}},\"type\":\"parcoords\"}],\"pie\":[{\"automargin\":true,\"type\":\"pie\"}],\"scatter\":[{\"marker\":{\"colorbar\":{\"outlinewidth\":0,\"ticks\":\"\"}},\"type\":\"scatter\"}],\"scatter3d\":[{\"line\":{\"colorbar\":{\"outlinewidth\":0,\"ticks\":\"\"}},\"marker\":{\"colorbar\":{\"outlinewidth\":0,\"ticks\":\"\"}},\"type\":\"scatter3d\"}],\"scattercarpet\":[{\"marker\":{\"colorbar\":{\"outlinewidth\":0,\"ticks\":\"\"}},\"type\":\"scattercarpet\"}],\"scattergeo\":[{\"marker\":{\"colorbar\":{\"outlinewidth\":0,\"ticks\":\"\"}},\"type\":\"scattergeo\"}],\"scattergl\":[{\"marker\":{\"colorbar\":{\"outlinewidth\":0,\"ticks\":\"\"}},\"type\":\"scattergl\"}],\"scattermapbox\":[{\"marker\":{\"colorbar\":{\"outlinewidth\":0,\"ticks\":\"\"}},\"type\":\"scattermapbox\"}],\"scatterpolar\":[{\"marker\":{\"colorbar\":{\"outlinewidth\":0,\"ticks\":\"\"}},\"type\":\"scatterpolar\"}],\"scatterpolargl\":[{\"marker\":{\"colorbar\":{\"outlinewidth\":0,\"ticks\":\"\"}},\"type\":\"scatterpolargl\"}],\"scatterternary\":[{\"marker\":{\"colorbar\":{\"outlinewidth\":0,\"ticks\":\"\"}},\"type\":\"scatterternary\"}],\"surface\":[{\"colorbar\":{\"outlinewidth\":0,\"ticks\":\"\"},\"colorscale\":[[0.0,\"#0d0887\"],[0.1111111111111111,\"#46039f\"],[0.2222222222222222,\"#7201a8\"],[0.3333333333333333,\"#9c179e\"],[0.4444444444444444,\"#bd3786\"],[0.5555555555555556,\"#d8576b\"],[0.6666666666666666,\"#ed7953\"],[0.7777777777777778,\"#fb9f3a\"],[0.8888888888888888,\"#fdca26\"],[1.0,\"#f0f921\"]],\"type\":\"surface\"}],\"table\":[{\"cells\":{\"fill\":{\"color\":\"#EBF0F8\"},\"line\":{\"color\":\"white\"}},\"header\":{\"fill\":{\"color\":\"#C8D4E3\"},\"line\":{\"color\":\"white\"}},\"type\":\"table\"}]},\"layout\":{\"annotationdefaults\":{\"arrowcolor\":\"#2a3f5f\",\"arrowhead\":0,\"arrowwidth\":1},\"autotypenumbers\":\"strict\",\"coloraxis\":{\"colorbar\":{\"outlinewidth\":0,\"ticks\":\"\"}},\"colorscale\":{\"diverging\":[[0,\"#8e0152\"],[0.1,\"#c51b7d\"],[0.2,\"#de77ae\"],[0.3,\"#f1b6da\"],[0.4,\"#fde0ef\"],[0.5,\"#f7f7f7\"],[0.6,\"#e6f5d0\"],[0.7,\"#b8e186\"],[0.8,\"#7fbc41\"],[0.9,\"#4d9221\"],[1,\"#276419\"]],\"sequential\":[[0.0,\"#0d0887\"],[0.1111111111111111,\"#46039f\"],[0.2222222222222222,\"#7201a8\"],[0.3333333333333333,\"#9c179e\"],[0.4444444444444444,\"#bd3786\"],[0.5555555555555556,\"#d8576b\"],[0.6666666666666666,\"#ed7953\"],[0.7777777777777778,\"#fb9f3a\"],[0.8888888888888888,\"#fdca26\"],[1.0,\"#f0f921\"]],\"sequentialminus\":[[0.0,\"#0d0887\"],[0.1111111111111111,\"#46039f\"],[0.2222222222222222,\"#7201a8\"],[0.3333333333333333,\"#9c179e\"],[0.4444444444444444,\"#bd3786\"],[0.5555555555555556,\"#d8576b\"],[0.6666666666666666,\"#ed7953\"],[0.7777777777777778,\"#fb9f3a\"],[0.8888888888888888,\"#fdca26\"],[1.0,\"#f0f921\"]]},\"colorway\":[\"#636efa\",\"#EF553B\",\"#00cc96\",\"#ab63fa\",\"#FFA15A\",\"#19d3f3\",\"#FF6692\",\"#B6E880\",\"#FF97FF\",\"#FECB52\"],\"font\":{\"color\":\"#2a3f5f\"},\"geo\":{\"bgcolor\":\"white\",\"lakecolor\":\"white\",\"landcolor\":\"white\",\"showlakes\":true,\"showland\":true,\"subunitcolor\":\"#C8D4E3\"},\"hoverlabel\":{\"align\":\"left\"},\"hovermode\":\"closest\",\"mapbox\":{\"style\":\"light\"},\"paper_bgcolor\":\"white\",\"plot_bgcolor\":\"white\",\"polar\":{\"angularaxis\":{\"gridcolor\":\"#EBF0F8\",\"linecolor\":\"#EBF0F8\",\"ticks\":\"\"},\"bgcolor\":\"white\",\"radialaxis\":{\"gridcolor\":\"#EBF0F8\",\"linecolor\":\"#EBF0F8\",\"ticks\":\"\"}},\"scene\":{\"xaxis\":{\"backgroundcolor\":\"white\",\"gridcolor\":\"#DFE8F3\",\"gridwidth\":2,\"linecolor\":\"#EBF0F8\",\"showbackground\":true,\"ticks\":\"\",\"zerolinecolor\":\"#EBF0F8\"},\"yaxis\":{\"backgroundcolor\":\"white\",\"gridcolor\":\"#DFE8F3\",\"gridwidth\":2,\"linecolor\":\"#EBF0F8\",\"showbackground\":true,\"ticks\":\"\",\"zerolinecolor\":\"#EBF0F8\"},\"zaxis\":{\"backgroundcolor\":\"white\",\"gridcolor\":\"#DFE8F3\",\"gridwidth\":2,\"linecolor\":\"#EBF0F8\",\"showbackground\":true,\"ticks\":\"\",\"zerolinecolor\":\"#EBF0F8\"}},\"shapedefaults\":{\"line\":{\"color\":\"#2a3f5f\"}},\"ternary\":{\"aaxis\":{\"gridcolor\":\"#DFE8F3\",\"linecolor\":\"#A2B1C6\",\"ticks\":\"\"},\"baxis\":{\"gridcolor\":\"#DFE8F3\",\"linecolor\":\"#A2B1C6\",\"ticks\":\"\"},\"bgcolor\":\"white\",\"caxis\":{\"gridcolor\":\"#DFE8F3\",\"linecolor\":\"#A2B1C6\",\"ticks\":\"\"}},\"title\":{\"x\":0.05},\"xaxis\":{\"automargin\":true,\"gridcolor\":\"#EBF0F8\",\"linecolor\":\"#EBF0F8\",\"ticks\":\"\",\"title\":{\"standoff\":15},\"zerolinecolor\":\"#EBF0F8\",\"zerolinewidth\":2},\"yaxis\":{\"automargin\":true,\"gridcolor\":\"#EBF0F8\",\"linecolor\":\"#EBF0F8\",\"ticks\":\"\",\"title\":{\"standoff\":15},\"zerolinecolor\":\"#EBF0F8\",\"zerolinewidth\":2}}},\"width\":800,\"xaxis\":{\"range\":[-2.0,42.0],\"showgrid\":true,\"showticklabels\":true,\"title\":{\"text\":\"Inpatient bed demand\"},\"zeroline\":false},\"yaxis\":{\"showgrid\":true,\"showticklabels\":true,\"ticktext\":[\"28\",\"21\",\"14\",\"7\",\"0\"],\"tickvals\":[0.0,-0.026482336000000002,-0.052964672000000004,-0.07944700800000001,-0.10592934400000001],\"title\":{\"text\":\"Predictions from days past<br>(i.e. up to 28 days ago)\"},\"zeroline\":false}},                        {\"responsive\": true}                    ).then(function(){\n",
       "                            \n",
       "var gd = document.getElementById('6ecaaa57-6fe5-4b39-b214-0bc48200dd48');\n",
       "var x = new MutationObserver(function (mutations, observer) {{\n",
       "        var display = window.getComputedStyle(gd).display;\n",
       "        if (!display || display === 'none') {{\n",
       "            console.log([gd, 'removed!']);\n",
       "            Plotly.purge(gd);\n",
       "            observer.disconnect();\n",
       "        }}\n",
       "}});\n",
       "\n",
       "// Listen for the removal of the full notebook cells\n",
       "var notebookContainer = gd.closest('#notebook-container');\n",
       "if (notebookContainer) {{\n",
       "    x.observe(notebookContainer, {childList: true});\n",
       "}}\n",
       "\n",
       "// Listen for the clearing of the current output cell\n",
       "var outputEl = gd.closest('.output');\n",
       "if (outputEl) {{\n",
       "    x.observe(outputEl, {childList: true});\n",
       "}}\n",
       "\n",
       "                        })                };                });            </script>        </div>"
      ]
     },
     "metadata": {},
     "output_type": "display_data"
    }
   ],
   "source": [
    "fig = ridgeplot(densities=res, \n",
    "                labels=days,\n",
    "                colorscale='portland',\n",
    "                colormode='mean-minmax',\n",
    "                spacing=1/5,\n",
    "               )\n",
    "fig.update_layout(showlegend=False)\n",
    "fig.update_layout(autosize=False, width=800, height=400)\n",
    "fig.update_layout(xaxis_title='Inpatient bed demand',\n",
    "                 yaxis_title=\"Predictions from days past<br>(i.e. up to 28 days ago)\")\n",
    "fig.update_layout(template='plotly_white')\n",
    "fig.show()"
   ]
  },
  {
   "cell_type": "code",
   "execution_count": null,
   "id": "c76e6fc8-3b02-4abc-98c5-251964a27447",
   "metadata": {},
   "outputs": [],
   "source": []
  }
 ],
 "metadata": {
  "kernelspec": {
   "display_name": "Python 3 (ipykernel)",
   "language": "python",
   "name": "python3"
  },
  "language_info": {
   "codemirror_mode": {
    "name": "ipython",
    "version": 3
   },
   "file_extension": ".py",
   "mimetype": "text/x-python",
   "name": "python",
   "nbconvert_exporter": "python",
   "pygments_lexer": "ipython3",
   "version": "3.9.2"
  }
 },
 "nbformat": 4,
 "nbformat_minor": 5
}
