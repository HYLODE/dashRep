{
 "cells": [
  {
   "cell_type": "code",
   "execution_count": null,
   "id": "f5ef0ab1-7f94-4eee-98a3-16391c08d2c1",
   "metadata": {
    "tags": []
   },
   "outputs": [],
   "source": [
    "import requests\n",
    "import pandas as pd"
   ]
  },
  {
   "cell_type": "code",
   "execution_count": null,
   "id": "3109042b-fe98-47f9-9979-f87bd28c3de5",
   "metadata": {
    "tags": []
   },
   "outputs": [],
   "source": [
    "# http://uclvlddpragae08:5006/docs#/provider/icu_live_ui_icu_live__ward__ui_get\n",
    "r = requests.get('http://uclvlddpragae08:5006/icu/live/T06/ui')"
   ]
  },
  {
   "cell_type": "code",
   "execution_count": null,
   "id": "053cd5c2-2b67-4784-8cfc-4c80bf000cd5",
   "metadata": {
    "tags": []
   },
   "outputs": [],
   "source": [
    "r.status_code, r.json()['data'][0]"
   ]
  },
  {
   "cell_type": "code",
   "execution_count": null,
   "id": "ba6cbe02-573e-4621-864f-38b5ba0e4e05",
   "metadata": {
    "tags": []
   },
   "outputs": [],
   "source": [
    "pd.DataFrame.from_dict(r.json()['data'])"
   ]
  },
  {
   "cell_type": "code",
   "execution_count": null,
   "id": "65381fd4-1291-411d-848a-0fdc34923ce1",
   "metadata": {},
   "outputs": [],
   "source": []
  }
 ],
 "metadata": {
  "kernelspec": {
   "display_name": "Python 3.8 (XPython)",
   "language": "python",
   "name": "xpython"
  },
  "language_info": {
   "file_extension": ".py",
   "mimetype": "text/x-python",
   "name": "python",
   "version": "3.8.12"
  }
 },
 "nbformat": 4,
 "nbformat_minor": 5
}
