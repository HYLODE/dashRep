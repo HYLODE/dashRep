{
 "cells": [
  {
   "cell_type": "markdown",
   "id": "7543becc-4cc2-42f5-87fc-39773b2492cf",
   "metadata": {},
   "source": [
    "## Infection prevention and control\n",
    "\n",
    "- As example of pulling data from EMAP and building a dashRep page\n",
    "- Aim is to show the patients in the ICU and who has a recent resistant organism screen"
   ]
  },
  {
   "cell_type": "code",
   "execution_count": null,
   "id": "441c419b-00d0-40b0-a312-1d9873309f8c",
   "metadata": {
    "execution": {
     "iopub.execute_input": "2022-01-09T22:52:01.564956Z",
     "iopub.status.busy": "2022-01-09T22:52:01.564628Z",
     "iopub.status.idle": "2022-01-09T22:52:01.606158Z",
     "shell.execute_reply": "2022-01-09T22:52:01.602700Z",
     "shell.execute_reply.started": "2022-01-09T22:52:01.564865Z"
    },
    "tags": []
   },
   "outputs": [],
   "source": [
    "%cd ~/dashRep/app"
   ]
  },
  {
   "cell_type": "code",
   "execution_count": null,
   "id": "45efe83d-f997-46aa-9c73-32ffce89d8b2",
   "metadata": {
    "execution": {
     "iopub.execute_input": "2022-01-09T22:54:02.427557Z",
     "iopub.status.busy": "2022-01-09T22:54:02.426759Z",
     "iopub.status.idle": "2022-01-09T22:54:02.431319Z",
     "shell.execute_reply": "2022-01-09T22:54:02.430699Z",
     "shell.execute_reply.started": "2022-01-09T22:54:02.427524Z"
    },
    "tags": []
   },
   "outputs": [],
   "source": [
    "from pathlib import Path\n",
    "import pandas as pd\n",
    "import numpy as np\n",
    "import json\n",
    "from pathlib import Path\n",
    "from datetime import datetime, date\n",
    "import warnings\n",
    "from sqlalchemy import create_engine"
   ]
  },
  {
   "cell_type": "code",
   "execution_count": null,
   "id": "9146005e-25e0-46c5-a6d5-d7ec0ddab4d8",
   "metadata": {
    "execution": {
     "iopub.execute_input": "2022-01-09T22:52:02.159584Z",
     "iopub.status.busy": "2022-01-09T22:52:02.159392Z",
     "iopub.status.idle": "2022-01-09T22:52:02.600626Z",
     "shell.execute_reply": "2022-01-09T22:52:02.599952Z",
     "shell.execute_reply.started": "2022-01-09T22:52:02.159558Z"
    },
    "tags": []
   },
   "outputs": [],
   "source": [
    "from config.config import ConfigFactory\n",
    "conf = ConfigFactory.factory()"
   ]
  },
  {
   "cell_type": "code",
   "execution_count": null,
   "id": "dc6dd697-5b00-4ff9-a8af-8223668f5d8c",
   "metadata": {
    "execution": {
     "iopub.execute_input": "2022-01-09T22:54:15.174404Z",
     "iopub.status.busy": "2022-01-09T22:54:15.174150Z",
     "iopub.status.idle": "2022-01-09T22:54:15.375381Z",
     "shell.execute_reply": "2022-01-09T22:54:15.374803Z",
     "shell.execute_reply.started": "2022-01-09T22:54:15.174377Z"
    },
    "tags": []
   },
   "outputs": [],
   "source": [
    "# Environment variables stored in conf.SECRETS\n",
    "\n",
    "\n",
    "# Construct the PostgreSQL connection\n",
    "uds_host = conf.SECRETS['EMAP_DB_HOST']\n",
    "uds_name = conf.SECRETS['EMAP_DB_NAME']\n",
    "uds_port = conf.SECRETS['EMAP_DB_PORT']\n",
    "uds_user = conf.SECRETS['EMAP_DB_USER']\n",
    "uds_passwd = conf.SECRETS['EMAP_DB_PASSWORD']\n",
    "\n",
    "emapdb_engine = create_engine(f'postgresql://{uds_user}:{uds_passwd}@{uds_host}:{uds_port}/{uds_name}')"
   ]
  },
  {
   "cell_type": "code",
   "execution_count": null,
   "id": "c037f6c6-3627-4876-97d1-30be2769a004",
   "metadata": {
    "execution": {
     "iopub.execute_input": "2022-01-09T23:19:33.534935Z",
     "iopub.status.busy": "2022-01-09T23:19:33.534684Z",
     "iopub.status.idle": "2022-01-09T23:19:33.542447Z",
     "shell.execute_reply": "2022-01-09T23:19:33.541830Z",
     "shell.execute_reply.started": "2022-01-09T23:19:33.534908Z"
    }
   },
   "outputs": [],
   "source": [
    "%pwd"
   ]
  },
  {
   "cell_type": "code",
   "execution_count": null,
   "id": "adf83acb-873a-4924-87d5-050757c488e5",
   "metadata": {
    "execution": {
     "iopub.execute_input": "2022-01-09T23:22:29.031144Z",
     "iopub.status.busy": "2022-01-09T23:22:29.030895Z",
     "iopub.status.idle": "2022-01-09T23:22:35.289743Z",
     "shell.execute_reply": "2022-01-09T23:22:35.288882Z",
     "shell.execute_reply.started": "2022-01-09T23:22:29.031117Z"
    },
    "tags": []
   },
   "outputs": [],
   "source": [
    "q = Path(\"../notebooks/sql/ros.sql\").read_text()\n",
    "df = pd.read_sql_query(q, emapdb_engine)"
   ]
  },
  {
   "cell_type": "code",
   "execution_count": null,
   "id": "a2366324-104b-4840-8497-27060ba994ed",
   "metadata": {
    "execution": {
     "iopub.execute_input": "2022-01-09T23:22:38.546105Z",
     "iopub.status.busy": "2022-01-09T23:22:38.545686Z",
     "iopub.status.idle": "2022-01-09T23:22:38.574311Z",
     "shell.execute_reply": "2022-01-09T23:22:38.573565Z",
     "shell.execute_reply.started": "2022-01-09T23:22:38.546076Z"
    },
    "tags": []
   },
   "outputs": [],
   "source": [
    "df.head()"
   ]
  },
  {
   "cell_type": "code",
   "execution_count": null,
   "id": "445f1712-df71-45d1-8440-178145b6dc29",
   "metadata": {
    "execution": {
     "iopub.execute_input": "2022-01-09T23:25:00.246129Z",
     "iopub.status.busy": "2022-01-09T23:25:00.245886Z",
     "iopub.status.idle": "2022-01-09T23:25:00.281655Z",
     "shell.execute_reply": "2022-01-09T23:25:00.281041Z",
     "shell.execute_reply.started": "2022-01-09T23:25:00.246101Z"
    }
   },
   "outputs": [],
   "source": [
    "df.to_csv(\"../data/secret/ros.csv\", index=False)"
   ]
  },
  {
   "cell_type": "code",
   "execution_count": null,
   "id": "3809d208-4589-409d-8e0b-3e9fcb1ae883",
   "metadata": {},
   "outputs": [],
   "source": []
  }
 ],
 "metadata": {
  "kernelspec": {
   "display_name": "Python 3",
   "language": "python",
   "name": "python3"
  },
  "language_info": {
   "codemirror_mode": {
    "name": "ipython",
    "version": 3
   },
   "file_extension": ".py",
   "mimetype": "text/x-python",
   "name": "python",
   "nbconvert_exporter": "python",
   "pygments_lexer": "ipython3",
   "version": "3.9.5"
  }
 },
 "nbformat": 4,
 "nbformat_minor": 5
}
