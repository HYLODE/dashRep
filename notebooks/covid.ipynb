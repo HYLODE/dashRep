{
 "cells": [
  {
   "cell_type": "code",
   "execution_count": null,
   "id": "f1bb280f-a004-4428-8433-4f720399300a",
   "metadata": {},
   "outputs": [],
   "source": [
    "import plotly.express as px\n",
    "import pandas as pd\n",
    "import requests\n",
    "import arrow\n",
    "import sys # added!\n",
    "sys.path.append(\"../app\") # added!"
   ]
  },
  {
   "cell_type": "code",
   "execution_count": null,
   "id": "51f7dd77-9b88-4e30-8be0-4acebd1c42d5",
   "metadata": {},
   "outputs": [],
   "source": [
    "from io import StringIO"
   ]
  },
  {
   "cell_type": "code",
   "execution_count": null,
   "id": "a4c47684-9938-4356-8987-647d1548b694",
   "metadata": {
    "tags": []
   },
   "outputs": [],
   "source": [
    "from sqlalchemy import create_engine\n",
    "engine = create_engine('sqlite:///../data/gov.db')\n"
   ]
  },
  {
   "cell_type": "code",
   "execution_count": null,
   "id": "7f7c068b-5293-47f8-8f9e-d5693639ec56",
   "metadata": {},
   "outputs": [],
   "source": [
    "# TODO: convert to dictionary to name\n",
    "\n",
    "from config import TRUST_INFO\n",
    "\n",
    "YESTERDAY = str(arrow.now().shift(days=-1).format(\"YYYY-MM-DD\"))"
   ]
  },
  {
   "cell_type": "code",
   "execution_count": null,
   "id": "e760d1d8-9239-4393-b5e2-6dde5c808edb",
   "metadata": {},
   "outputs": [],
   "source": [
    "URL_HOSP_CASES = f\"https://coronavirus.data.gov.uk/api/v2/data?areaType=nhsTrust&release={YESTERDAY}&metric=hospitalCases&format=json\""
   ]
  },
  {
   "cell_type": "code",
   "execution_count": null,
   "id": "42fc7e85-49b3-4b09-8e9b-0845519ab949",
   "metadata": {},
   "outputs": [],
   "source": [
    "URL_CASES_BY_AGE = f\"https://api.coronavirus.data.gov.uk/v2/data?areaType=region&areaCode=E12000007&metric=newCasesBySpecimenDateAgeDemographics&format=csv\""
   ]
  },
  {
   "cell_type": "code",
   "execution_count": null,
   "id": "f2d8816d-c36d-489b-9752-449fb626c608",
   "metadata": {},
   "outputs": [],
   "source": [
    "def request_gov_uk(url, table, engine, format='json') -> pd.DataFrame:\n",
    "    \"\"\"\n",
    "    Import COVID information as per the gov.uk API here\n",
    "    but checks to see if the same request has already been run\n",
    "    url: API connection\n",
    "    table: table to store data in local SQLite\n",
    "    conn: connection to local db for storing data and logging requests\n",
    "    format: json or csv\n",
    "    \"\"\"\n",
    "    with engine.connect() as conn:\n",
    "        requests_df = pd.read_sql('requests_log', conn)\n",
    "\n",
    "        if url in requests_df.request.values:\n",
    "            df = pd.read_sql(table, conn)\n",
    "        \n",
    "        else:\n",
    "            response = requests.get(url)\n",
    "            if format == 'json':\n",
    "                df = pd.json_normalize(response.json(), record_path=\"body\")\n",
    "            elif format == 'csv':\n",
    "                df = pd.read_csv(StringIO(response.text))\n",
    "            else:\n",
    "                raise NotImplementedError\n",
    "            df.to_sql(table, conn, if_exists='replace')\n",
    "\n",
    "            request_log = pd.DataFrame({\n",
    "                'request': [url],\n",
    "                'table': [table],\n",
    "                'request_ts': [str(arrow.now())]\n",
    "            })\n",
    "            request_log.to_sql('requests_log', conn, if_exists='append')\n",
    "    return df\n"
   ]
  },
  {
   "cell_type": "code",
   "execution_count": null,
   "id": "64cee0b8-c7fb-4a90-91fd-780c96e9bf91",
   "metadata": {},
   "outputs": [],
   "source": [
    "df = request_gov_uk(URL_CASES_BY_AGE, 'cases_by_age', engine, format='csv')"
   ]
  },
  {
   "cell_type": "code",
   "execution_count": null,
   "id": "b46839d1-7ec4-47bc-b927-9f3fdadaa1fb",
   "metadata": {},
   "outputs": [],
   "source": [
    "df"
   ]
  },
  {
   "cell_type": "code",
   "execution_count": null,
   "id": "7fcbe753-a441-4061-936c-18c461d45dc4",
   "metadata": {},
   "outputs": [],
   "source": [
    "def clean_popn_cases(df):\n",
    "    \"\"\"\n",
    "    Clean population cases (London)\n",
    "    df : data frame of population cases by age\n",
    "    \"\"\"\n",
    "    df[\"date\"] = pd.to_datetime(df[\"date\"])\n",
    "    df.drop([\"areaType\", \"areaCode\", \"areaType\" ], axis=1, inplace=True)\n",
    "    return df"
   ]
  },
  {
   "cell_type": "code",
   "execution_count": null,
   "id": "6dbe26bd-5753-46f1-9040-603d3d2fd535",
   "metadata": {},
   "outputs": [],
   "source": [
    "df = clean_popn_cases(df)"
   ]
  },
  {
   "cell_type": "code",
   "execution_count": null,
   "id": "72a90b86-f06e-4041-b4a7-54a952dd3f70",
   "metadata": {},
   "outputs": [],
   "source": [
    "import plotly.graph_objects as go\n",
    "\n",
    "fig = go.Figure()"
   ]
  },
  {
   "cell_type": "code",
   "execution_count": null,
   "id": "48bd66e5-c4aa-4265-84cd-e6a366e66464",
   "metadata": {},
   "outputs": [],
   "source": [
    "age_bands = df.age.unique().tolist()\n",
    "age_bands = list(set(age_bands) - set(['60+', '00_59', 'unassigned']))\n",
    "age_bands"
   ]
  },
  {
   "cell_type": "code",
   "execution_count": null,
   "id": "c6ba2735-4018-4d94-ac1d-81e481a71d3f",
   "metadata": {},
   "outputs": [],
   "source": [
    "for age in age_bands:\n",
    "    _df = df.loc[df.age == age]\n",
    "    fig.add_trace(\n",
    "            go.Scatter(\n",
    "                name=age,\n",
    "                x=_df.date,\n",
    "                y=_df.cases,\n",
    "            )\n",
    "        )"
   ]
  },
  {
   "cell_type": "code",
   "execution_count": null,
   "id": "096d11a4-a3e2-4804-8fbc-6826bd50cf4a",
   "metadata": {},
   "outputs": [],
   "source": [
    "fig"
   ]
  },
  {
   "cell_type": "code",
   "execution_count": null,
   "id": "b66307fd-79be-423b-b084-a46877950006",
   "metadata": {},
   "outputs": [],
   "source": [
    "fig.add_trace(go.Scatter(x=df.date, y=df.cases, fill=df.age))"
   ]
  },
  {
   "cell_type": "code",
   "execution_count": null,
   "id": "34a69588-19f3-4d00-9588-a897c900a5a1",
   "metadata": {},
   "outputs": [],
   "source": []
  },
  {
   "cell_type": "code",
   "execution_count": null,
   "id": "c9ed9fc8-aa74-4d2b-8071-5e64a4f72171",
   "metadata": {},
   "outputs": [],
   "source": []
  },
  {
   "cell_type": "code",
   "execution_count": null,
   "id": "e33f3332-d47c-472d-8023-281370ec4c23",
   "metadata": {},
   "outputs": [],
   "source": [
    "df.head()"
   ]
  },
  {
   "cell_type": "code",
   "execution_count": null,
   "id": "5a8d8a38-c609-431d-a93b-0d08ae29f706",
   "metadata": {},
   "outputs": [],
   "source": [
    "def clean_hosp_cases(df, TRUST_INFO):\n",
    "    \"\"\"\n",
    "    Clean hosp cases\n",
    "    df : data frame of hospital cases\n",
    "    TRUST_INFO: data frame of trust information\n",
    "    \"\"\"\n",
    "    trusts_london = TRUST_INFO[TRUST_INFO.inLondon01][['areaCode','shortName', 'sectorName', 'inNCL01']]\n",
    "    df = df.merge(trusts_london, how='inner', on='areaCode')\n",
    "    df[\"date\"] = pd.to_datetime(df[\"date\"])\n",
    "    df.drop(['index', 'areaType'], axis=1, inplace=True)\n",
    "    return df\n"
   ]
  },
  {
   "cell_type": "code",
   "execution_count": null,
   "id": "00305603-c404-4930-9c8c-dbc29803a042",
   "metadata": {},
   "outputs": [],
   "source": [
    "df2 = clean_hosp_cases(df, TRUST_INFO)"
   ]
  },
  {
   "cell_type": "code",
   "execution_count": null,
   "id": "661eaf2c-e49a-45ec-ab33-7ccbe15277db",
   "metadata": {},
   "outputs": [],
   "source": [
    "df2.areaCode.unique().tolist()"
   ]
  },
  {
   "cell_type": "code",
   "execution_count": null,
   "id": "b435f11f-6b18-471e-8960-7e2e648bd81f",
   "metadata": {},
   "outputs": [],
   "source": []
  },
  {
   "cell_type": "code",
   "execution_count": null,
   "id": "802db512-0748-4fb2-bd2d-1aff02d36f1e",
   "metadata": {},
   "outputs": [],
   "source": [
    "import plotly.graph_objects as go"
   ]
  },
  {
   "cell_type": "code",
   "execution_count": null,
   "id": "ba08665c-a38c-439e-9af8-bc224160b856",
   "metadata": {},
   "outputs": [],
   "source": [
    "fig = go.Figure()"
   ]
  },
  {
   "cell_type": "code",
   "execution_count": null,
   "id": "92dece4f-38e2-4749-9896-71ccc53e2687",
   "metadata": {},
   "outputs": [],
   "source": [
    "fig.add_trace(go.Scatter(x=df.date, y=df.hospitalCases))"
   ]
  },
  {
   "cell_type": "code",
   "execution_count": null,
   "id": "07b3411b-7c7c-42d2-bd3e-8c31ba69991f",
   "metadata": {},
   "outputs": [],
   "source": [
    "df"
   ]
  },
  {
   "cell_type": "code",
   "execution_count": null,
   "id": "b2389d7c-6b58-42bf-97d6-2d1c287eb1a4",
   "metadata": {},
   "outputs": [],
   "source": [
    "df.loc[df.hospitalCases==49]"
   ]
  },
  {
   "cell_type": "code",
   "execution_count": null,
   "id": "e74e55a0-0c5f-4859-96be-d502692ce8bb",
   "metadata": {},
   "outputs": [],
   "source": []
  }
 ],
 "metadata": {
  "kernelspec": {
   "display_name": "Python 3 (ipykernel)",
   "language": "python",
   "name": "python3"
  },
  "language_info": {
   "codemirror_mode": {
    "name": "ipython",
    "version": 3
   },
   "file_extension": ".py",
   "mimetype": "text/x-python",
   "name": "python",
   "nbconvert_exporter": "python",
   "pygments_lexer": "ipython3",
   "version": "3.9.2"
  }
 },
 "nbformat": 4,
 "nbformat_minor": 5
}
